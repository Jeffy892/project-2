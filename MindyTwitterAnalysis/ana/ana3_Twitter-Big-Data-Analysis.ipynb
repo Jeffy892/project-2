{
 "cells": [
  {
   "cell_type": "code",
   "execution_count": 1,
   "metadata": {},
   "outputs": [],
   "source": [
    "import pandas as pd\n",
    "import numpy as np\n",
    "from collections import defaultdict \n",
    "import seaborn as sns\n",
    "import matplotlib.pyplot as plt\n",
    "%matplotlib inline \n",
    "\n",
    "sns.set_style('darkgrid')\n",
    "sns.set_context('notebook')"
   ]
  },
  {
   "cell_type": "code",
   "execution_count": 2,
   "metadata": {},
   "outputs": [
    {
     "data": {
      "text/html": [
       "<div>\n",
       "<style scoped>\n",
       "    .dataframe tbody tr th:only-of-type {\n",
       "        vertical-align: middle;\n",
       "    }\n",
       "\n",
       "    .dataframe tbody tr th {\n",
       "        vertical-align: top;\n",
       "    }\n",
       "\n",
       "    .dataframe thead th {\n",
       "        text-align: right;\n",
       "    }\n",
       "</style>\n",
       "<table border=\"1\" class=\"dataframe\">\n",
       "  <thead>\n",
       "    <tr style=\"text-align: right;\">\n",
       "      <th></th>\n",
       "      <th>date</th>\n",
       "      <th>hour</th>\n",
       "      <th>language</th>\n",
       "      <th>retweets</th>\n",
       "      <th>min</th>\n",
       "      <th>place</th>\n",
       "      <th>country</th>\n",
       "      <th>replies</th>\n",
       "      <th>likes</th>\n",
       "      <th>quotes</th>\n",
       "      <th>sec</th>\n",
       "      <th>time</th>\n",
       "      <th>tweet</th>\n",
       "    </tr>\n",
       "    <tr>\n",
       "      <th>index</th>\n",
       "      <th></th>\n",
       "      <th></th>\n",
       "      <th></th>\n",
       "      <th></th>\n",
       "      <th></th>\n",
       "      <th></th>\n",
       "      <th></th>\n",
       "      <th></th>\n",
       "      <th></th>\n",
       "      <th></th>\n",
       "      <th></th>\n",
       "      <th></th>\n",
       "      <th></th>\n",
       "    </tr>\n",
       "  </thead>\n",
       "  <tbody>\n",
       "    <tr>\n",
       "      <th>1</th>\n",
       "      <td>2021-02-16</td>\n",
       "      <td>6</td>\n",
       "      <td>ko</td>\n",
       "      <td>0</td>\n",
       "      <td>40</td>\n",
       "      <td>[Santa Clara, CA]</td>\n",
       "      <td>USA</td>\n",
       "      <td>0</td>\n",
       "      <td>0</td>\n",
       "      <td>0</td>\n",
       "      <td>43</td>\n",
       "      <td>2021-02-16T06:40:43.000-06:00</td>\n",
       "      <td>나의그림😙❣️#BTS @BTSfanart #ARMY https://t.co/d6vu...</td>\n",
       "    </tr>\n",
       "    <tr>\n",
       "      <th>2</th>\n",
       "      <td>2021-02-16</td>\n",
       "      <td>7</td>\n",
       "      <td>en</td>\n",
       "      <td>0</td>\n",
       "      <td>3</td>\n",
       "      <td>[Quezon City, National Capital Region]</td>\n",
       "      <td>Philippines</td>\n",
       "      <td>0</td>\n",
       "      <td>0</td>\n",
       "      <td>0</td>\n",
       "      <td>10</td>\n",
       "      <td>2021-02-16T07:03:10.000-06:00</td>\n",
       "      <td>NowON\\n#OT7 #BTS https://t.co/YzsSBnIoj1</td>\n",
       "    </tr>\n",
       "    <tr>\n",
       "      <th>3</th>\n",
       "      <td>2021-02-16</td>\n",
       "      <td>7</td>\n",
       "      <td>en</td>\n",
       "      <td>0</td>\n",
       "      <td>14</td>\n",
       "      <td>[Jamaica]</td>\n",
       "      <td>Jamaica</td>\n",
       "      <td>0</td>\n",
       "      <td>0</td>\n",
       "      <td>0</td>\n",
       "      <td>58</td>\n",
       "      <td>2021-02-16T07:14:58.000-06:00</td>\n",
       "      <td>All now so we gone to collect the leftovers on...</td>\n",
       "    </tr>\n",
       "    <tr>\n",
       "      <th>4</th>\n",
       "      <td>2021-02-16</td>\n",
       "      <td>7</td>\n",
       "      <td>ru</td>\n",
       "      <td>1</td>\n",
       "      <td>28</td>\n",
       "      <td>[Province of Novosibirsk, Russia]</td>\n",
       "      <td>Russia</td>\n",
       "      <td>0</td>\n",
       "      <td>0</td>\n",
       "      <td>0</td>\n",
       "      <td>13</td>\n",
       "      <td>2021-02-16T07:28:13.000-06:00</td>\n",
       "      <td>Боже... Спасите меня кто-нибудь... Пожалуйста....</td>\n",
       "    </tr>\n",
       "    <tr>\n",
       "      <th>5</th>\n",
       "      <td>2021-02-16</td>\n",
       "      <td>7</td>\n",
       "      <td>en</td>\n",
       "      <td>0</td>\n",
       "      <td>35</td>\n",
       "      <td>[Penza, Russia]</td>\n",
       "      <td>Russia</td>\n",
       "      <td>0</td>\n",
       "      <td>0</td>\n",
       "      <td>0</td>\n",
       "      <td>6</td>\n",
       "      <td>2021-02-16T07:35:06.000-06:00</td>\n",
       "      <td>You create a great mood! The best and most ama...</td>\n",
       "    </tr>\n",
       "  </tbody>\n",
       "</table>\n",
       "</div>"
      ],
      "text/plain": [
       "             date  hour language  retweets  min  \\\n",
       "index                                             \n",
       "1      2021-02-16     6       ko         0   40   \n",
       "2      2021-02-16     7       en         0    3   \n",
       "3      2021-02-16     7       en         0   14   \n",
       "4      2021-02-16     7       ru         1   28   \n",
       "5      2021-02-16     7       en         0   35   \n",
       "\n",
       "                                        place      country  replies  likes  \\\n",
       "index                                                                        \n",
       "1                           [Santa Clara, CA]          USA        0      0   \n",
       "2      [Quezon City, National Capital Region]  Philippines        0      0   \n",
       "3                                   [Jamaica]      Jamaica        0      0   \n",
       "4           [Province of Novosibirsk, Russia]       Russia        0      0   \n",
       "5                             [Penza, Russia]       Russia        0      0   \n",
       "\n",
       "       quotes  sec                           time  \\\n",
       "index                                               \n",
       "1           0   43  2021-02-16T06:40:43.000-06:00   \n",
       "2           0   10  2021-02-16T07:03:10.000-06:00   \n",
       "3           0   58  2021-02-16T07:14:58.000-06:00   \n",
       "4           0   13  2021-02-16T07:28:13.000-06:00   \n",
       "5           0    6  2021-02-16T07:35:06.000-06:00   \n",
       "\n",
       "                                                   tweet  \n",
       "index                                                     \n",
       "1      나의그림😙❣️#BTS @BTSfanart #ARMY https://t.co/d6vu...  \n",
       "2               NowON\\n#OT7 #BTS https://t.co/YzsSBnIoj1  \n",
       "3      All now so we gone to collect the leftovers on...  \n",
       "4      Боже... Спасите меня кто-нибудь... Пожалуйста....  \n",
       "5      You create a great mood! The best and most ama...  "
      ]
     },
     "execution_count": 2,
     "metadata": {},
     "output_type": "execute_result"
    }
   ],
   "source": [
    "df = pd.read_csv(\"./data2/ana2_BTS_geoOnly_210216_morning_CDT.csv\",index_col='index')\n",
    "df"
   ]
  },
  {
   "cell_type": "code",
   "execution_count": 3,
   "metadata": {},
   "outputs": [
    {
     "name": "stdout",
     "output_type": "stream",
     "text": [
      "<class 'pandas.core.frame.DataFrame'>\n",
      "Int64Index: 5 entries, 1 to 5\n",
      "Data columns (total 13 columns):\n",
      " #   Column    Non-Null Count  Dtype \n",
      "---  ------    --------------  ----- \n",
      " 0   date      5 non-null      object\n",
      " 1   hour      5 non-null      int64 \n",
      " 2   language  5 non-null      object\n",
      " 3   retweets  5 non-null      int64 \n",
      " 4   min       5 non-null      int64 \n",
      " 5   place     5 non-null      object\n",
      " 6   country   5 non-null      object\n",
      " 7   replies   5 non-null      int64 \n",
      " 8   likes     5 non-null      int64 \n",
      " 9   quotes    5 non-null      int64 \n",
      " 10  sec       5 non-null      int64 \n",
      " 11  time      5 non-null      object\n",
      " 12  tweet     5 non-null      object\n",
      "dtypes: int64(7), object(6)\n",
      "memory usage: 560.0+ bytes\n"
     ]
    }
   ],
   "source": [
    "df.info()"
   ]
  },
  {
   "cell_type": "code",
   "execution_count": 4,
   "metadata": {},
   "outputs": [
    {
     "data": {
      "text/html": [
       "<div>\n",
       "<style scoped>\n",
       "    .dataframe tbody tr th:only-of-type {\n",
       "        vertical-align: middle;\n",
       "    }\n",
       "\n",
       "    .dataframe tbody tr th {\n",
       "        vertical-align: top;\n",
       "    }\n",
       "\n",
       "    .dataframe thead th {\n",
       "        text-align: right;\n",
       "    }\n",
       "</style>\n",
       "<table border=\"1\" class=\"dataframe\">\n",
       "  <thead>\n",
       "    <tr style=\"text-align: right;\">\n",
       "      <th></th>\n",
       "      <th>hour</th>\n",
       "      <th>retweets</th>\n",
       "      <th>min</th>\n",
       "      <th>replies</th>\n",
       "      <th>likes</th>\n",
       "      <th>quotes</th>\n",
       "      <th>sec</th>\n",
       "    </tr>\n",
       "  </thead>\n",
       "  <tbody>\n",
       "    <tr>\n",
       "      <th>count</th>\n",
       "      <td>5.000000</td>\n",
       "      <td>5.000000</td>\n",
       "      <td>5.000000</td>\n",
       "      <td>5.0</td>\n",
       "      <td>5.0</td>\n",
       "      <td>5.0</td>\n",
       "      <td>5.000000</td>\n",
       "    </tr>\n",
       "    <tr>\n",
       "      <th>mean</th>\n",
       "      <td>6.800000</td>\n",
       "      <td>0.200000</td>\n",
       "      <td>24.000000</td>\n",
       "      <td>0.0</td>\n",
       "      <td>0.0</td>\n",
       "      <td>0.0</td>\n",
       "      <td>26.000000</td>\n",
       "    </tr>\n",
       "    <tr>\n",
       "      <th>std</th>\n",
       "      <td>0.447214</td>\n",
       "      <td>0.447214</td>\n",
       "      <td>15.280707</td>\n",
       "      <td>0.0</td>\n",
       "      <td>0.0</td>\n",
       "      <td>0.0</td>\n",
       "      <td>23.119256</td>\n",
       "    </tr>\n",
       "    <tr>\n",
       "      <th>min</th>\n",
       "      <td>6.000000</td>\n",
       "      <td>0.000000</td>\n",
       "      <td>3.000000</td>\n",
       "      <td>0.0</td>\n",
       "      <td>0.0</td>\n",
       "      <td>0.0</td>\n",
       "      <td>6.000000</td>\n",
       "    </tr>\n",
       "    <tr>\n",
       "      <th>25%</th>\n",
       "      <td>7.000000</td>\n",
       "      <td>0.000000</td>\n",
       "      <td>14.000000</td>\n",
       "      <td>0.0</td>\n",
       "      <td>0.0</td>\n",
       "      <td>0.0</td>\n",
       "      <td>10.000000</td>\n",
       "    </tr>\n",
       "    <tr>\n",
       "      <th>50%</th>\n",
       "      <td>7.000000</td>\n",
       "      <td>0.000000</td>\n",
       "      <td>28.000000</td>\n",
       "      <td>0.0</td>\n",
       "      <td>0.0</td>\n",
       "      <td>0.0</td>\n",
       "      <td>13.000000</td>\n",
       "    </tr>\n",
       "    <tr>\n",
       "      <th>75%</th>\n",
       "      <td>7.000000</td>\n",
       "      <td>0.000000</td>\n",
       "      <td>35.000000</td>\n",
       "      <td>0.0</td>\n",
       "      <td>0.0</td>\n",
       "      <td>0.0</td>\n",
       "      <td>43.000000</td>\n",
       "    </tr>\n",
       "    <tr>\n",
       "      <th>max</th>\n",
       "      <td>7.000000</td>\n",
       "      <td>1.000000</td>\n",
       "      <td>40.000000</td>\n",
       "      <td>0.0</td>\n",
       "      <td>0.0</td>\n",
       "      <td>0.0</td>\n",
       "      <td>58.000000</td>\n",
       "    </tr>\n",
       "  </tbody>\n",
       "</table>\n",
       "</div>"
      ],
      "text/plain": [
       "           hour  retweets        min  replies  likes  quotes        sec\n",
       "count  5.000000  5.000000   5.000000      5.0    5.0     5.0   5.000000\n",
       "mean   6.800000  0.200000  24.000000      0.0    0.0     0.0  26.000000\n",
       "std    0.447214  0.447214  15.280707      0.0    0.0     0.0  23.119256\n",
       "min    6.000000  0.000000   3.000000      0.0    0.0     0.0   6.000000\n",
       "25%    7.000000  0.000000  14.000000      0.0    0.0     0.0  10.000000\n",
       "50%    7.000000  0.000000  28.000000      0.0    0.0     0.0  13.000000\n",
       "75%    7.000000  0.000000  35.000000      0.0    0.0     0.0  43.000000\n",
       "max    7.000000  1.000000  40.000000      0.0    0.0     0.0  58.000000"
      ]
     },
     "execution_count": 4,
     "metadata": {},
     "output_type": "execute_result"
    }
   ],
   "source": [
    "df.describe()"
   ]
  },
  {
   "cell_type": "code",
   "execution_count": 5,
   "metadata": {},
   "outputs": [
    {
     "data": {
      "text/plain": [
       "False    1.0\n",
       "Name: place, dtype: float64"
      ]
     },
     "execution_count": 5,
     "metadata": {},
     "output_type": "execute_result"
    }
   ],
   "source": [
    "df['place'].isnull().value_counts(normalize=True)"
   ]
  },
  {
   "cell_type": "code",
   "execution_count": 6,
   "metadata": {},
   "outputs": [
    {
     "data": {
      "text/plain": [
       "False    1.0\n",
       "Name: country, dtype: float64"
      ]
     },
     "execution_count": 6,
     "metadata": {},
     "output_type": "execute_result"
    }
   ],
   "source": [
    "df['country'].isnull().value_counts(normalize=True)"
   ]
  },
  {
   "cell_type": "code",
   "execution_count": 7,
   "metadata": {},
   "outputs": [
    {
     "name": "stdout",
     "output_type": "stream",
     "text": [
      "<class 'pandas.core.frame.DataFrame'>\n",
      "Int64Index: 5 entries, 1 to 5\n",
      "Data columns (total 13 columns):\n",
      " #   Column    Non-Null Count  Dtype \n",
      "---  ------    --------------  ----- \n",
      " 0   date      5 non-null      object\n",
      " 1   hour      5 non-null      int64 \n",
      " 2   language  5 non-null      object\n",
      " 3   retweets  5 non-null      int64 \n",
      " 4   min       5 non-null      int64 \n",
      " 5   place     5 non-null      object\n",
      " 6   country   5 non-null      object\n",
      " 7   replies   5 non-null      int64 \n",
      " 8   likes     5 non-null      int64 \n",
      " 9   quotes    5 non-null      int64 \n",
      " 10  sec       5 non-null      int64 \n",
      " 11  time      5 non-null      object\n",
      " 12  tweet     5 non-null      object\n",
      "dtypes: int64(7), object(6)\n",
      "memory usage: 560.0+ bytes\n"
     ]
    }
   ],
   "source": [
    "df.dropna(axis=0, how='any', inplace=True)\n",
    "df.info()"
   ]
  },
  {
   "cell_type": "code",
   "execution_count": 8,
   "metadata": {},
   "outputs": [
    {
     "data": {
      "text/plain": [
       "index\n",
       "1                         [Santa Clara,  CA]\n",
       "2    [Quezon City,  National Capital Region]\n",
       "3                                  [Jamaica]\n",
       "4         [Province of Novosibirsk,  Russia]\n",
       "5                           [Penza,  Russia]\n",
       "Name: place, dtype: object"
      ]
     },
     "execution_count": 8,
     "metadata": {},
     "output_type": "execute_result"
    }
   ],
   "source": [
    "df['place'] = df.place.apply(lambda x: x[1:-1].split(','))\n",
    "df.place.head()"
   ]
  },
  {
   "cell_type": "code",
   "execution_count": 9,
   "metadata": {},
   "outputs": [
    {
     "name": "stdout",
     "output_type": "stream",
     "text": [
      "cities:\n",
      " [['Santa Clara'], ['Quezon City'], [], ['Province of Novosibirsk'], ['Penza']] \n",
      "\n",
      "countries:\n",
      " [' CA', ' National Capital Region', 'Jamaica', ' Russia', ' Russia']\n"
     ]
    }
   ],
   "source": [
    "city_list = []\n",
    "country_list = []\n",
    "for row in df.place: \n",
    "    city_list.append(row[:-1])\n",
    "    country_list.append(row[-1])\n",
    "print('cities:\\n',city_list,'\\n')\n",
    "print('countries:\\n',country_list)"
   ]
  },
  {
   "cell_type": "code",
   "execution_count": 10,
   "metadata": {},
   "outputs": [
    {
     "data": {
      "text/html": [
       "<div>\n",
       "<style scoped>\n",
       "    .dataframe tbody tr th:only-of-type {\n",
       "        vertical-align: middle;\n",
       "    }\n",
       "\n",
       "    .dataframe tbody tr th {\n",
       "        vertical-align: top;\n",
       "    }\n",
       "\n",
       "    .dataframe thead th {\n",
       "        text-align: right;\n",
       "    }\n",
       "</style>\n",
       "<table border=\"1\" class=\"dataframe\">\n",
       "  <thead>\n",
       "    <tr style=\"text-align: right;\">\n",
       "      <th></th>\n",
       "      <th>date</th>\n",
       "      <th>hour</th>\n",
       "      <th>language</th>\n",
       "      <th>retweets</th>\n",
       "      <th>min</th>\n",
       "      <th>place</th>\n",
       "      <th>place_1</th>\n",
       "      <th>country</th>\n",
       "      <th>replies</th>\n",
       "      <th>likes</th>\n",
       "      <th>quotes</th>\n",
       "      <th>sec</th>\n",
       "      <th>time</th>\n",
       "      <th>tweet</th>\n",
       "    </tr>\n",
       "    <tr>\n",
       "      <th>index</th>\n",
       "      <th></th>\n",
       "      <th></th>\n",
       "      <th></th>\n",
       "      <th></th>\n",
       "      <th></th>\n",
       "      <th></th>\n",
       "      <th></th>\n",
       "      <th></th>\n",
       "      <th></th>\n",
       "      <th></th>\n",
       "      <th></th>\n",
       "      <th></th>\n",
       "      <th></th>\n",
       "      <th></th>\n",
       "    </tr>\n",
       "  </thead>\n",
       "  <tbody>\n",
       "    <tr>\n",
       "      <th>1</th>\n",
       "      <td>2021-02-16</td>\n",
       "      <td>6</td>\n",
       "      <td>ko</td>\n",
       "      <td>0</td>\n",
       "      <td>40</td>\n",
       "      <td>[Santa Clara,  CA]</td>\n",
       "      <td>[Santa Clara]</td>\n",
       "      <td>USA</td>\n",
       "      <td>0</td>\n",
       "      <td>0</td>\n",
       "      <td>0</td>\n",
       "      <td>43</td>\n",
       "      <td>2021-02-16T06:40:43.000-06:00</td>\n",
       "      <td>나의그림😙❣️#BTS @BTSfanart #ARMY https://t.co/d6vu...</td>\n",
       "    </tr>\n",
       "    <tr>\n",
       "      <th>2</th>\n",
       "      <td>2021-02-16</td>\n",
       "      <td>7</td>\n",
       "      <td>en</td>\n",
       "      <td>0</td>\n",
       "      <td>3</td>\n",
       "      <td>[Quezon City,  National Capital Region]</td>\n",
       "      <td>[Quezon City]</td>\n",
       "      <td>Philippines</td>\n",
       "      <td>0</td>\n",
       "      <td>0</td>\n",
       "      <td>0</td>\n",
       "      <td>10</td>\n",
       "      <td>2021-02-16T07:03:10.000-06:00</td>\n",
       "      <td>NowON\\n#OT7 #BTS https://t.co/YzsSBnIoj1</td>\n",
       "    </tr>\n",
       "    <tr>\n",
       "      <th>3</th>\n",
       "      <td>2021-02-16</td>\n",
       "      <td>7</td>\n",
       "      <td>en</td>\n",
       "      <td>0</td>\n",
       "      <td>14</td>\n",
       "      <td>[Jamaica]</td>\n",
       "      <td>[]</td>\n",
       "      <td>Jamaica</td>\n",
       "      <td>0</td>\n",
       "      <td>0</td>\n",
       "      <td>0</td>\n",
       "      <td>58</td>\n",
       "      <td>2021-02-16T07:14:58.000-06:00</td>\n",
       "      <td>All now so we gone to collect the leftovers on...</td>\n",
       "    </tr>\n",
       "    <tr>\n",
       "      <th>4</th>\n",
       "      <td>2021-02-16</td>\n",
       "      <td>7</td>\n",
       "      <td>ru</td>\n",
       "      <td>1</td>\n",
       "      <td>28</td>\n",
       "      <td>[Province of Novosibirsk,  Russia]</td>\n",
       "      <td>[Province of Novosibirsk]</td>\n",
       "      <td>Russia</td>\n",
       "      <td>0</td>\n",
       "      <td>0</td>\n",
       "      <td>0</td>\n",
       "      <td>13</td>\n",
       "      <td>2021-02-16T07:28:13.000-06:00</td>\n",
       "      <td>Боже... Спасите меня кто-нибудь... Пожалуйста....</td>\n",
       "    </tr>\n",
       "    <tr>\n",
       "      <th>5</th>\n",
       "      <td>2021-02-16</td>\n",
       "      <td>7</td>\n",
       "      <td>en</td>\n",
       "      <td>0</td>\n",
       "      <td>35</td>\n",
       "      <td>[Penza,  Russia]</td>\n",
       "      <td>[Penza]</td>\n",
       "      <td>Russia</td>\n",
       "      <td>0</td>\n",
       "      <td>0</td>\n",
       "      <td>0</td>\n",
       "      <td>6</td>\n",
       "      <td>2021-02-16T07:35:06.000-06:00</td>\n",
       "      <td>You create a great mood! The best and most ama...</td>\n",
       "    </tr>\n",
       "  </tbody>\n",
       "</table>\n",
       "</div>"
      ],
      "text/plain": [
       "             date  hour language  retweets  min  \\\n",
       "index                                             \n",
       "1      2021-02-16     6       ko         0   40   \n",
       "2      2021-02-16     7       en         0    3   \n",
       "3      2021-02-16     7       en         0   14   \n",
       "4      2021-02-16     7       ru         1   28   \n",
       "5      2021-02-16     7       en         0   35   \n",
       "\n",
       "                                         place                    place_1  \\\n",
       "index                                                                       \n",
       "1                           [Santa Clara,  CA]              [Santa Clara]   \n",
       "2      [Quezon City,  National Capital Region]              [Quezon City]   \n",
       "3                                    [Jamaica]                         []   \n",
       "4           [Province of Novosibirsk,  Russia]  [Province of Novosibirsk]   \n",
       "5                             [Penza,  Russia]                    [Penza]   \n",
       "\n",
       "           country  replies  likes  quotes  sec  \\\n",
       "index                                             \n",
       "1              USA        0      0       0   43   \n",
       "2      Philippines        0      0       0   10   \n",
       "3          Jamaica        0      0       0   58   \n",
       "4           Russia        0      0       0   13   \n",
       "5           Russia        0      0       0    6   \n",
       "\n",
       "                                time  \\\n",
       "index                                  \n",
       "1      2021-02-16T06:40:43.000-06:00   \n",
       "2      2021-02-16T07:03:10.000-06:00   \n",
       "3      2021-02-16T07:14:58.000-06:00   \n",
       "4      2021-02-16T07:28:13.000-06:00   \n",
       "5      2021-02-16T07:35:06.000-06:00   \n",
       "\n",
       "                                                   tweet  \n",
       "index                                                     \n",
       "1      나의그림😙❣️#BTS @BTSfanart #ARMY https://t.co/d6vu...  \n",
       "2               NowON\\n#OT7 #BTS https://t.co/YzsSBnIoj1  \n",
       "3      All now so we gone to collect the leftovers on...  \n",
       "4      Боже... Спасите меня кто-нибудь... Пожалуйста....  \n",
       "5      You create a great mood! The best and most ama...  "
      ]
     },
     "execution_count": 10,
     "metadata": {},
     "output_type": "execute_result"
    }
   ],
   "source": [
    "df.insert(6, \"place_1\", city_list, True)\n",
    "df.head()"
   ]
  },
  {
   "cell_type": "code",
   "execution_count": 11,
   "metadata": {},
   "outputs": [
    {
     "data": {
      "text/html": [
       "<div>\n",
       "<style scoped>\n",
       "    .dataframe tbody tr th:only-of-type {\n",
       "        vertical-align: middle;\n",
       "    }\n",
       "\n",
       "    .dataframe tbody tr th {\n",
       "        vertical-align: top;\n",
       "    }\n",
       "\n",
       "    .dataframe thead th {\n",
       "        text-align: right;\n",
       "    }\n",
       "</style>\n",
       "<table border=\"1\" class=\"dataframe\">\n",
       "  <thead>\n",
       "    <tr style=\"text-align: right;\">\n",
       "      <th></th>\n",
       "      <th>date</th>\n",
       "      <th>hour</th>\n",
       "      <th>language</th>\n",
       "      <th>retweets</th>\n",
       "      <th>min</th>\n",
       "      <th>place</th>\n",
       "      <th>place_1</th>\n",
       "      <th>place_2</th>\n",
       "      <th>country</th>\n",
       "      <th>replies</th>\n",
       "      <th>likes</th>\n",
       "      <th>quotes</th>\n",
       "      <th>sec</th>\n",
       "      <th>time</th>\n",
       "      <th>tweet</th>\n",
       "    </tr>\n",
       "    <tr>\n",
       "      <th>index</th>\n",
       "      <th></th>\n",
       "      <th></th>\n",
       "      <th></th>\n",
       "      <th></th>\n",
       "      <th></th>\n",
       "      <th></th>\n",
       "      <th></th>\n",
       "      <th></th>\n",
       "      <th></th>\n",
       "      <th></th>\n",
       "      <th></th>\n",
       "      <th></th>\n",
       "      <th></th>\n",
       "      <th></th>\n",
       "      <th></th>\n",
       "    </tr>\n",
       "  </thead>\n",
       "  <tbody>\n",
       "    <tr>\n",
       "      <th>1</th>\n",
       "      <td>2021-02-16</td>\n",
       "      <td>6</td>\n",
       "      <td>ko</td>\n",
       "      <td>0</td>\n",
       "      <td>40</td>\n",
       "      <td>[Santa Clara,  CA]</td>\n",
       "      <td>[Santa Clara]</td>\n",
       "      <td>CA</td>\n",
       "      <td>USA</td>\n",
       "      <td>0</td>\n",
       "      <td>0</td>\n",
       "      <td>0</td>\n",
       "      <td>43</td>\n",
       "      <td>2021-02-16T06:40:43.000-06:00</td>\n",
       "      <td>나의그림😙❣️#BTS @BTSfanart #ARMY https://t.co/d6vu...</td>\n",
       "    </tr>\n",
       "    <tr>\n",
       "      <th>2</th>\n",
       "      <td>2021-02-16</td>\n",
       "      <td>7</td>\n",
       "      <td>en</td>\n",
       "      <td>0</td>\n",
       "      <td>3</td>\n",
       "      <td>[Quezon City,  National Capital Region]</td>\n",
       "      <td>[Quezon City]</td>\n",
       "      <td>National Capital Region</td>\n",
       "      <td>Philippines</td>\n",
       "      <td>0</td>\n",
       "      <td>0</td>\n",
       "      <td>0</td>\n",
       "      <td>10</td>\n",
       "      <td>2021-02-16T07:03:10.000-06:00</td>\n",
       "      <td>NowON\\n#OT7 #BTS https://t.co/YzsSBnIoj1</td>\n",
       "    </tr>\n",
       "    <tr>\n",
       "      <th>3</th>\n",
       "      <td>2021-02-16</td>\n",
       "      <td>7</td>\n",
       "      <td>en</td>\n",
       "      <td>0</td>\n",
       "      <td>14</td>\n",
       "      <td>[Jamaica]</td>\n",
       "      <td>[]</td>\n",
       "      <td>Jamaica</td>\n",
       "      <td>Jamaica</td>\n",
       "      <td>0</td>\n",
       "      <td>0</td>\n",
       "      <td>0</td>\n",
       "      <td>58</td>\n",
       "      <td>2021-02-16T07:14:58.000-06:00</td>\n",
       "      <td>All now so we gone to collect the leftovers on...</td>\n",
       "    </tr>\n",
       "    <tr>\n",
       "      <th>4</th>\n",
       "      <td>2021-02-16</td>\n",
       "      <td>7</td>\n",
       "      <td>ru</td>\n",
       "      <td>1</td>\n",
       "      <td>28</td>\n",
       "      <td>[Province of Novosibirsk,  Russia]</td>\n",
       "      <td>[Province of Novosibirsk]</td>\n",
       "      <td>Russia</td>\n",
       "      <td>Russia</td>\n",
       "      <td>0</td>\n",
       "      <td>0</td>\n",
       "      <td>0</td>\n",
       "      <td>13</td>\n",
       "      <td>2021-02-16T07:28:13.000-06:00</td>\n",
       "      <td>Боже... Спасите меня кто-нибудь... Пожалуйста....</td>\n",
       "    </tr>\n",
       "    <tr>\n",
       "      <th>5</th>\n",
       "      <td>2021-02-16</td>\n",
       "      <td>7</td>\n",
       "      <td>en</td>\n",
       "      <td>0</td>\n",
       "      <td>35</td>\n",
       "      <td>[Penza,  Russia]</td>\n",
       "      <td>[Penza]</td>\n",
       "      <td>Russia</td>\n",
       "      <td>Russia</td>\n",
       "      <td>0</td>\n",
       "      <td>0</td>\n",
       "      <td>0</td>\n",
       "      <td>6</td>\n",
       "      <td>2021-02-16T07:35:06.000-06:00</td>\n",
       "      <td>You create a great mood! The best and most ama...</td>\n",
       "    </tr>\n",
       "  </tbody>\n",
       "</table>\n",
       "</div>"
      ],
      "text/plain": [
       "             date  hour language  retweets  min  \\\n",
       "index                                             \n",
       "1      2021-02-16     6       ko         0   40   \n",
       "2      2021-02-16     7       en         0    3   \n",
       "3      2021-02-16     7       en         0   14   \n",
       "4      2021-02-16     7       ru         1   28   \n",
       "5      2021-02-16     7       en         0   35   \n",
       "\n",
       "                                         place                    place_1  \\\n",
       "index                                                                       \n",
       "1                           [Santa Clara,  CA]              [Santa Clara]   \n",
       "2      [Quezon City,  National Capital Region]              [Quezon City]   \n",
       "3                                    [Jamaica]                         []   \n",
       "4           [Province of Novosibirsk,  Russia]  [Province of Novosibirsk]   \n",
       "5                             [Penza,  Russia]                    [Penza]   \n",
       "\n",
       "                        place_2      country  replies  likes  quotes  sec  \\\n",
       "index                                                                       \n",
       "1                            CA          USA        0      0       0   43   \n",
       "2       National Capital Region  Philippines        0      0       0   10   \n",
       "3                       Jamaica      Jamaica        0      0       0   58   \n",
       "4                        Russia       Russia        0      0       0   13   \n",
       "5                        Russia       Russia        0      0       0    6   \n",
       "\n",
       "                                time  \\\n",
       "index                                  \n",
       "1      2021-02-16T06:40:43.000-06:00   \n",
       "2      2021-02-16T07:03:10.000-06:00   \n",
       "3      2021-02-16T07:14:58.000-06:00   \n",
       "4      2021-02-16T07:28:13.000-06:00   \n",
       "5      2021-02-16T07:35:06.000-06:00   \n",
       "\n",
       "                                                   tweet  \n",
       "index                                                     \n",
       "1      나의그림😙❣️#BTS @BTSfanart #ARMY https://t.co/d6vu...  \n",
       "2               NowON\\n#OT7 #BTS https://t.co/YzsSBnIoj1  \n",
       "3      All now so we gone to collect the leftovers on...  \n",
       "4      Боже... Спасите меня кто-нибудь... Пожалуйста....  \n",
       "5      You create a great mood! The best and most ama...  "
      ]
     },
     "execution_count": 11,
     "metadata": {},
     "output_type": "execute_result"
    }
   ],
   "source": [
    "df.insert(7, \"place_2\", country_list, True)\n",
    "df.head()"
   ]
  },
  {
   "cell_type": "markdown",
   "metadata": {},
   "source": [
    "#### for debugging purpose: you can uncomment lines below"
   ]
  },
  {
   "cell_type": "code",
   "execution_count": 12,
   "metadata": {},
   "outputs": [],
   "source": [
    "#df.drop(['place_1','place_2'],axis=1,inplace=True)\n",
    "#df.head()"
   ]
  },
  {
   "cell_type": "code",
   "execution_count": 13,
   "metadata": {},
   "outputs": [
    {
     "data": {
      "text/html": [
       "<div>\n",
       "<style scoped>\n",
       "    .dataframe tbody tr th:only-of-type {\n",
       "        vertical-align: middle;\n",
       "    }\n",
       "\n",
       "    .dataframe tbody tr th {\n",
       "        vertical-align: top;\n",
       "    }\n",
       "\n",
       "    .dataframe thead th {\n",
       "        text-align: right;\n",
       "    }\n",
       "</style>\n",
       "<table border=\"1\" class=\"dataframe\">\n",
       "  <thead>\n",
       "    <tr style=\"text-align: right;\">\n",
       "      <th></th>\n",
       "      <th>date</th>\n",
       "      <th>hour</th>\n",
       "      <th>language</th>\n",
       "      <th>retweets</th>\n",
       "      <th>min</th>\n",
       "      <th>place_1</th>\n",
       "      <th>place_2</th>\n",
       "      <th>country</th>\n",
       "      <th>replies</th>\n",
       "      <th>likes</th>\n",
       "      <th>quotes</th>\n",
       "      <th>sec</th>\n",
       "      <th>tweet</th>\n",
       "    </tr>\n",
       "    <tr>\n",
       "      <th>index</th>\n",
       "      <th></th>\n",
       "      <th></th>\n",
       "      <th></th>\n",
       "      <th></th>\n",
       "      <th></th>\n",
       "      <th></th>\n",
       "      <th></th>\n",
       "      <th></th>\n",
       "      <th></th>\n",
       "      <th></th>\n",
       "      <th></th>\n",
       "      <th></th>\n",
       "      <th></th>\n",
       "    </tr>\n",
       "  </thead>\n",
       "  <tbody>\n",
       "    <tr>\n",
       "      <th>1</th>\n",
       "      <td>2021-02-16</td>\n",
       "      <td>6</td>\n",
       "      <td>ko</td>\n",
       "      <td>0</td>\n",
       "      <td>40</td>\n",
       "      <td>[Santa Clara]</td>\n",
       "      <td>CA</td>\n",
       "      <td>USA</td>\n",
       "      <td>0</td>\n",
       "      <td>0</td>\n",
       "      <td>0</td>\n",
       "      <td>43</td>\n",
       "      <td>나의그림😙❣️#BTS @BTSfanart #ARMY https://t.co/d6vu...</td>\n",
       "    </tr>\n",
       "    <tr>\n",
       "      <th>2</th>\n",
       "      <td>2021-02-16</td>\n",
       "      <td>7</td>\n",
       "      <td>en</td>\n",
       "      <td>0</td>\n",
       "      <td>3</td>\n",
       "      <td>[Quezon City]</td>\n",
       "      <td>National Capital Region</td>\n",
       "      <td>Philippines</td>\n",
       "      <td>0</td>\n",
       "      <td>0</td>\n",
       "      <td>0</td>\n",
       "      <td>10</td>\n",
       "      <td>NowON\\n#OT7 #BTS https://t.co/YzsSBnIoj1</td>\n",
       "    </tr>\n",
       "    <tr>\n",
       "      <th>3</th>\n",
       "      <td>2021-02-16</td>\n",
       "      <td>7</td>\n",
       "      <td>en</td>\n",
       "      <td>0</td>\n",
       "      <td>14</td>\n",
       "      <td>[]</td>\n",
       "      <td>Jamaica</td>\n",
       "      <td>Jamaica</td>\n",
       "      <td>0</td>\n",
       "      <td>0</td>\n",
       "      <td>0</td>\n",
       "      <td>58</td>\n",
       "      <td>All now so we gone to collect the leftovers on...</td>\n",
       "    </tr>\n",
       "    <tr>\n",
       "      <th>4</th>\n",
       "      <td>2021-02-16</td>\n",
       "      <td>7</td>\n",
       "      <td>ru</td>\n",
       "      <td>1</td>\n",
       "      <td>28</td>\n",
       "      <td>[Province of Novosibirsk]</td>\n",
       "      <td>Russia</td>\n",
       "      <td>Russia</td>\n",
       "      <td>0</td>\n",
       "      <td>0</td>\n",
       "      <td>0</td>\n",
       "      <td>13</td>\n",
       "      <td>Боже... Спасите меня кто-нибудь... Пожалуйста....</td>\n",
       "    </tr>\n",
       "    <tr>\n",
       "      <th>5</th>\n",
       "      <td>2021-02-16</td>\n",
       "      <td>7</td>\n",
       "      <td>en</td>\n",
       "      <td>0</td>\n",
       "      <td>35</td>\n",
       "      <td>[Penza]</td>\n",
       "      <td>Russia</td>\n",
       "      <td>Russia</td>\n",
       "      <td>0</td>\n",
       "      <td>0</td>\n",
       "      <td>0</td>\n",
       "      <td>6</td>\n",
       "      <td>You create a great mood! The best and most ama...</td>\n",
       "    </tr>\n",
       "  </tbody>\n",
       "</table>\n",
       "</div>"
      ],
      "text/plain": [
       "             date  hour language  retweets  min                    place_1  \\\n",
       "index                                                                        \n",
       "1      2021-02-16     6       ko         0   40              [Santa Clara]   \n",
       "2      2021-02-16     7       en         0    3              [Quezon City]   \n",
       "3      2021-02-16     7       en         0   14                         []   \n",
       "4      2021-02-16     7       ru         1   28  [Province of Novosibirsk]   \n",
       "5      2021-02-16     7       en         0   35                    [Penza]   \n",
       "\n",
       "                        place_2      country  replies  likes  quotes  sec  \\\n",
       "index                                                                       \n",
       "1                            CA          USA        0      0       0   43   \n",
       "2       National Capital Region  Philippines        0      0       0   10   \n",
       "3                       Jamaica      Jamaica        0      0       0   58   \n",
       "4                        Russia       Russia        0      0       0   13   \n",
       "5                        Russia       Russia        0      0       0    6   \n",
       "\n",
       "                                                   tweet  \n",
       "index                                                     \n",
       "1      나의그림😙❣️#BTS @BTSfanart #ARMY https://t.co/d6vu...  \n",
       "2               NowON\\n#OT7 #BTS https://t.co/YzsSBnIoj1  \n",
       "3      All now so we gone to collect the leftovers on...  \n",
       "4      Боже... Спасите меня кто-нибудь... Пожалуйста....  \n",
       "5      You create a great mood! The best and most ama...  "
      ]
     },
     "execution_count": 13,
     "metadata": {},
     "output_type": "execute_result"
    }
   ],
   "source": [
    "df.drop(['place','time'],axis=1,inplace=True)\n",
    "df.head()"
   ]
  },
  {
   "cell_type": "code",
   "execution_count": 14,
   "metadata": {},
   "outputs": [],
   "source": [
    "def top_count_bar_chart(xlist, ylist, col, title):\n",
    "    \n",
    "    sns.set_context('notebook')\n",
    "    fig, ax = plt.subplots(ncols=1, nrows=1, figsize=(12,6))\n",
    "    \n",
    "    ax.bar(xlist, ylist, color=col)\n",
    "    ax.set_title('{}'.format(title), size=24)\n",
    "    ax.set_xticklabels(xlist, fontsize=14, rotation=30, ha='right')\n",
    "    ax.set_xlabel('Countries', size=24)\n",
    "    ax.set_ylabel('Twitter User Counts', size=24)\n",
    "    ax.set(yscale='log')"
   ]
  },
  {
   "cell_type": "code",
   "execution_count": 15,
   "metadata": {},
   "outputs": [
    {
     "data": {
      "image/png": "[encoded data removed]",
      "text/plain": [
       "<Figure size 864x432 with 1 Axes>"
      ]
     },
     "metadata": {},
     "output_type": "display_data"
    }
   ],
   "source": [
    "top_count_bar_chart(list(df[\"country\"].value_counts().keys()[:15]), list(df[\"country\"].value_counts().values[:15]), 'red', \n",
    "                \"21/02/16 morning Twitter Filtered Streams\")"
   ]
  },
  {
   "cell_type": "code",
   "execution_count": 16,
   "metadata": {},
   "outputs": [
    {
     "data": {
      "text/html": [
       "<div>\n",
       "<style scoped>\n",
       "    .dataframe tbody tr th:only-of-type {\n",
       "        vertical-align: middle;\n",
       "    }\n",
       "\n",
       "    .dataframe tbody tr th {\n",
       "        vertical-align: top;\n",
       "    }\n",
       "\n",
       "    .dataframe thead th {\n",
       "        text-align: right;\n",
       "    }\n",
       "</style>\n",
       "<table border=\"1\" class=\"dataframe\">\n",
       "  <thead>\n",
       "    <tr style=\"text-align: right;\">\n",
       "      <th></th>\n",
       "      <th>country</th>\n",
       "      <th>language</th>\n",
       "    </tr>\n",
       "  </thead>\n",
       "  <tbody>\n",
       "    <tr>\n",
       "      <th>0</th>\n",
       "      <td>Jamaica</td>\n",
       "      <td>1</td>\n",
       "    </tr>\n",
       "    <tr>\n",
       "      <th>1</th>\n",
       "      <td>Philippines</td>\n",
       "      <td>1</td>\n",
       "    </tr>\n",
       "    <tr>\n",
       "      <th>2</th>\n",
       "      <td>USA</td>\n",
       "      <td>1</td>\n",
       "    </tr>\n",
       "    <tr>\n",
       "      <th>3</th>\n",
       "      <td>Russia</td>\n",
       "      <td>2</td>\n",
       "    </tr>\n",
       "  </tbody>\n",
       "</table>\n",
       "</div>"
      ],
      "text/plain": [
       "       country  language\n",
       "0      Jamaica         1\n",
       "1  Philippines         1\n",
       "2          USA         1\n",
       "3       Russia         2"
      ]
     },
     "execution_count": 16,
     "metadata": {},
     "output_type": "execute_result"
    }
   ],
   "source": [
    "dfg = df.groupby(['country'])['language'].count().sort_values(ascending=True).reset_index()\n",
    "dfg"
   ]
  },
  {
   "cell_type": "code",
   "execution_count": 17,
   "metadata": {},
   "outputs": [
    {
     "data": {
      "image/png": "[encoded data removed]",
      "text/plain": [
       "<Figure size 720x576 with 1 Axes>"
      ]
     },
     "metadata": {},
     "output_type": "display_data"
    }
   ],
   "source": [
    "fig, ax = plt.subplots(ncols=1, nrows=1, figsize=(10,8))\n",
    "ax.barh(list(dfg.country), list(dfg.language), color='blue')\n",
    "ax.set_title('21/02/16 morning Twitter Filtered Streams', size=24)\n",
    "ax.set_xticklabels(ax.get_xticks(), size = 14)\n",
    "ax.set_xlabel('Twitter User Counts', size=24)\n",
    "ax.set_ylabel('Countries', size=24)\n",
    "ax.set_yticklabels(dfg.country, fontsize=14, rotation=30, ha='right')\n",
    "plt.show()"
   ]
  },
  {
   "cell_type": "code",
   "execution_count": 18,
   "metadata": {},
   "outputs": [
    {
     "data": {
      "text/plain": [
       "country      language\n",
       "Jamaica      en          1\n",
       "Philippines  en          1\n",
       "Russia       en          1\n",
       "             ru          1\n",
       "USA          ko          1\n",
       "Name: language, dtype: int64"
      ]
     },
     "execution_count": 18,
     "metadata": {},
     "output_type": "execute_result"
    }
   ],
   "source": [
    "df.groupby(['country'])['language'].value_counts()"
   ]
  },
  {
   "cell_type": "code",
   "execution_count": 19,
   "metadata": {},
   "outputs": [
    {
     "data": {
      "text/plain": [
       "MultiIndex([(    'Jamaica', 'en'),\n",
       "            ('Philippines', 'en'),\n",
       "            (     'Russia', 'en'),\n",
       "            (     'Russia', 'ru'),\n",
       "            (        'USA', 'ko')],\n",
       "           names=['country', 'language'])"
      ]
     },
     "execution_count": 19,
     "metadata": {},
     "output_type": "execute_result"
    }
   ],
   "source": [
    "df.groupby(['country'])['language'].value_counts().keys()"
   ]
  },
  {
   "cell_type": "code",
   "execution_count": 20,
   "metadata": {},
   "outputs": [
    {
     "name": "stdout",
     "output_type": "stream",
     "text": [
      "('Jamaica', 'en')\n",
      "Jamaica\n",
      "en\n"
     ]
    }
   ],
   "source": [
    "print(df.groupby(['country'])['language'].value_counts().keys()[0])\n",
    "print(df.groupby(['country'])['language'].value_counts().keys()[0][0])\n",
    "print(df.groupby(['country'])['language'].value_counts().keys()[0][1])"
   ]
  },
  {
   "cell_type": "code",
   "execution_count": 21,
   "metadata": {},
   "outputs": [
    {
     "data": {
      "text/plain": [
       "defaultdict(list,\n",
       "            {'Jamaica': ['en'],\n",
       "             'Philippines': ['en'],\n",
       "             'Russia': ['en', 'ru'],\n",
       "             'USA': ['ko']})"
      ]
     },
     "execution_count": 21,
     "metadata": {},
     "output_type": "execute_result"
    }
   ],
   "source": [
    "count_lan = defaultdict(list)\n",
    "for i in df.groupby(['country'])['language'].value_counts().keys():\n",
    "    count_lan[i[0]].append(i[1])\n",
    "count_lan"
   ]
  },
  {
   "cell_type": "markdown",
   "metadata": {},
   "source": [
    "#### for debugging purpose: you can uncomment/comment lines below"
   ]
  },
  {
   "cell_type": "code",
   "execution_count": 22,
   "metadata": {},
   "outputs": [],
   "source": [
    "#print(count_lan['Argentina'])\n",
    "#print(count_lan['Belgium'])\n",
    "#print(count_lan['Brazil'])"
   ]
  },
  {
   "cell_type": "code",
   "execution_count": 23,
   "metadata": {},
   "outputs": [
    {
     "name": "stdout",
     "output_type": "stream",
     "text": [
      "dict_keys(['Jamaica', 'Philippines', 'Russia', 'USA'])\n",
      "dict_values([['en'], ['en'], ['en', 'ru'], ['ko']])\n"
     ]
    }
   ],
   "source": [
    "print(count_lan.keys())\n",
    "print(count_lan.values())"
   ]
  },
  {
   "cell_type": "code",
   "execution_count": 24,
   "metadata": {
    "scrolled": false
   },
   "outputs": [
    {
     "data": {
      "text/plain": [
       "{'Jamaica': 1, 'Philippines': 1, 'Russia': 2, 'USA': 1}"
      ]
     },
     "execution_count": 24,
     "metadata": {},
     "output_type": "execute_result"
    }
   ],
   "source": [
    "count_lantype = dict()\n",
    "for i in count_lan:\n",
    "    count_lantype[i] = np.size(count_lan[i])\n",
    "count_lantype"
   ]
  },
  {
   "cell_type": "markdown",
   "metadata": {},
   "source": [
    "#### for debugging purpose: you can uncomment/comment lines below"
   ]
  },
  {
   "cell_type": "code",
   "execution_count": 25,
   "metadata": {},
   "outputs": [],
   "source": [
    "#count_lantype.pop(0)\n",
    "#count_lantype.pop(1)\n",
    "#count_lantype"
   ]
  },
  {
   "cell_type": "code",
   "execution_count": 26,
   "metadata": {},
   "outputs": [
    {
     "data": {
      "text/plain": [
       "{'Jamaica': 1, 'Philippines': 1, 'USA': 1, 'Russia': 2}"
      ]
     },
     "execution_count": 26,
     "metadata": {},
     "output_type": "execute_result"
    }
   ],
   "source": [
    "#sorted_count_lantype = sorted(count_lantype, key=count_lantype.get, reverse=True)\n",
    "sorted_count_lantype = {k: v for k, v in sorted(count_lantype.items(), key=lambda x:x[1], reverse=False)}\n",
    "sorted_count_lantype"
   ]
  },
  {
   "cell_type": "code",
   "execution_count": 27,
   "metadata": {},
   "outputs": [
    {
     "name": "stdout",
     "output_type": "stream",
     "text": [
      "dict_keys(['Jamaica', 'Philippines', 'USA', 'Russia'])\n",
      "dict_values([1, 1, 1, 2])\n"
     ]
    }
   ],
   "source": [
    "print(sorted_count_lantype.keys())\n",
    "print(sorted_count_lantype.values())"
   ]
  },
  {
   "cell_type": "code",
   "execution_count": 28,
   "metadata": {},
   "outputs": [
    {
     "data": {
      "image/png": "[encoded data removed]",
      "text/plain": [
       "<Figure size 720x576 with 1 Axes>"
      ]
     },
     "metadata": {},
     "output_type": "display_data"
    }
   ],
   "source": [
    "fig, ax = plt.subplots(ncols=1, nrows=1, figsize=(10,8))\n",
    "ax.barh(list(sorted_count_lantype.keys()), list(sorted_count_lantype.values()), color='blue')\n",
    "ax.set_title('21/02/16 morning Twitter Filtered Streams', size=24)\n",
    "ax.set_xticklabels(ax.get_xticks(), size = 14)\n",
    "ax.set_xlabel('Language Type Counts', size=24)\n",
    "ax.set_ylabel('Countries', size=24)\n",
    "ax.set_yticklabels(list(sorted_count_lantype.keys()), fontsize=14, rotation=30, ha='right')\n",
    "plt.show()"
   ]
  },
  {
   "cell_type": "code",
   "execution_count": 29,
   "metadata": {},
   "outputs": [
    {
     "data": {
      "text/plain": [
       "defaultdict(list,\n",
       "            {'Jamaica': ['en'],\n",
       "             'Philippines': ['en'],\n",
       "             'Russia': ['en', 'ru'],\n",
       "             'USA': ['ko']})"
      ]
     },
     "execution_count": 29,
     "metadata": {},
     "output_type": "execute_result"
    }
   ],
   "source": [
    "count_lan"
   ]
  },
  {
   "cell_type": "code",
   "execution_count": 30,
   "metadata": {},
   "outputs": [
    {
     "name": "stdout",
     "output_type": "stream",
     "text": [
      "{'Jamaica': ['en'], 'Philippines': ['en'], 'Russia': ['en', 'ru'], 'USA': ['ko']}\n",
      "['Jamaica', 'Philippines', 'Russia', 'Russia', 'USA']\n",
      "['en', 'en', 'en', 'ru', 'ko']\n"
     ]
    }
   ],
   "source": [
    "dict_geolang = dict()\n",
    "dict_geoList = []\n",
    "dict_lanList = []\n",
    "for i in count_lan:\n",
    "    for j in count_lan[i]:\n",
    "        dict_geolang.setdefault(i, []).append(j)\n",
    "        dict_geoList.append(i)\n",
    "        dict_lanList.append(j)\n",
    "print(dict_geolang)\n",
    "print(dict_geoList)\n",
    "print(dict_lanList)"
   ]
  },
  {
   "cell_type": "code",
   "execution_count": 31,
   "metadata": {},
   "outputs": [],
   "source": [
    "data = {'Country': dict_geoList,'Language': dict_lanList}"
   ]
  },
  {
   "cell_type": "code",
   "execution_count": 32,
   "metadata": {},
   "outputs": [],
   "source": [
    "data2 = {'Country': list(dict_geolang.keys()),'Language': list(dict_geolang.values())}"
   ]
  },
  {
   "cell_type": "code",
   "execution_count": 33,
   "metadata": {},
   "outputs": [
    {
     "data": {
      "text/html": [
       "<div>\n",
       "<style scoped>\n",
       "    .dataframe tbody tr th:only-of-type {\n",
       "        vertical-align: middle;\n",
       "    }\n",
       "\n",
       "    .dataframe tbody tr th {\n",
       "        vertical-align: top;\n",
       "    }\n",
       "\n",
       "    .dataframe thead th {\n",
       "        text-align: right;\n",
       "    }\n",
       "</style>\n",
       "<table border=\"1\" class=\"dataframe\">\n",
       "  <thead>\n",
       "    <tr style=\"text-align: right;\">\n",
       "      <th></th>\n",
       "      <th>Language</th>\n",
       "    </tr>\n",
       "    <tr>\n",
       "      <th>Country</th>\n",
       "      <th></th>\n",
       "    </tr>\n",
       "  </thead>\n",
       "  <tbody>\n",
       "    <tr>\n",
       "      <th>Jamaica</th>\n",
       "      <td>en</td>\n",
       "    </tr>\n",
       "    <tr>\n",
       "      <th>Philippines</th>\n",
       "      <td>en</td>\n",
       "    </tr>\n",
       "    <tr>\n",
       "      <th>Russia</th>\n",
       "      <td>en</td>\n",
       "    </tr>\n",
       "    <tr>\n",
       "      <th>Russia</th>\n",
       "      <td>ru</td>\n",
       "    </tr>\n",
       "    <tr>\n",
       "      <th>USA</th>\n",
       "      <td>ko</td>\n",
       "    </tr>\n",
       "  </tbody>\n",
       "</table>\n",
       "</div>"
      ],
      "text/plain": [
       "            Language\n",
       "Country             \n",
       "Jamaica           en\n",
       "Philippines       en\n",
       "Russia            en\n",
       "Russia            ru\n",
       "USA               ko"
      ]
     },
     "execution_count": 33,
     "metadata": {},
     "output_type": "execute_result"
    }
   ],
   "source": [
    "df2 = pd.DataFrame(data, columns = ['Country','Language']).set_index('Country')\n",
    "df2"
   ]
  },
  {
   "cell_type": "code",
   "execution_count": 34,
   "metadata": {},
   "outputs": [
    {
     "data": {
      "text/html": [
       "<div>\n",
       "<style scoped>\n",
       "    .dataframe tbody tr th:only-of-type {\n",
       "        vertical-align: middle;\n",
       "    }\n",
       "\n",
       "    .dataframe tbody tr th {\n",
       "        vertical-align: top;\n",
       "    }\n",
       "\n",
       "    .dataframe thead th {\n",
       "        text-align: right;\n",
       "    }\n",
       "</style>\n",
       "<table border=\"1\" class=\"dataframe\">\n",
       "  <thead>\n",
       "    <tr style=\"text-align: right;\">\n",
       "      <th></th>\n",
       "      <th>Country</th>\n",
       "      <th>Language</th>\n",
       "    </tr>\n",
       "  </thead>\n",
       "  <tbody>\n",
       "    <tr>\n",
       "      <th>0</th>\n",
       "      <td>Jamaica</td>\n",
       "      <td>[en]</td>\n",
       "    </tr>\n",
       "    <tr>\n",
       "      <th>1</th>\n",
       "      <td>Philippines</td>\n",
       "      <td>[en]</td>\n",
       "    </tr>\n",
       "    <tr>\n",
       "      <th>2</th>\n",
       "      <td>Russia</td>\n",
       "      <td>[en, ru]</td>\n",
       "    </tr>\n",
       "    <tr>\n",
       "      <th>3</th>\n",
       "      <td>USA</td>\n",
       "      <td>[ko]</td>\n",
       "    </tr>\n",
       "  </tbody>\n",
       "</table>\n",
       "</div>"
      ],
      "text/plain": [
       "       Country  Language\n",
       "0      Jamaica      [en]\n",
       "1  Philippines      [en]\n",
       "2       Russia  [en, ru]\n",
       "3          USA      [ko]"
      ]
     },
     "execution_count": 34,
     "metadata": {},
     "output_type": "execute_result"
    }
   ],
   "source": [
    "df5 = pd.DataFrame(data2, columns = ['Country','Language'])\n",
    "df5"
   ]
  },
  {
   "cell_type": "code",
   "execution_count": 35,
   "metadata": {},
   "outputs": [
    {
     "name": "stdout",
     "output_type": "stream",
     "text": [
      "{'en', 'ko', 'ru'}\n"
     ]
    }
   ],
   "source": [
    "langtypes_list = []\n",
    "for i in df5['Language']:\n",
    "    for j in i:\n",
    "        langtypes_list.append(j)\n",
    "print(set(langtypes_list))"
   ]
  },
  {
   "cell_type": "code",
   "execution_count": 36,
   "metadata": {},
   "outputs": [
    {
     "data": {
      "text/plain": [
       "Index(['Country', 'Language', 'en', 'ko', 'ru'], dtype='object')"
      ]
     },
     "execution_count": 36,
     "metadata": {},
     "output_type": "execute_result"
    }
   ],
   "source": [
    "df6 = df5.copy()\n",
    "for i in set(langtypes_list):\n",
    "    df6[i] = np.zeros(shape=df6.shape[0])\n",
    "df6.columns"
   ]
  },
  {
   "cell_type": "code",
   "execution_count": 37,
   "metadata": {},
   "outputs": [
    {
     "data": {
      "text/html": [
       "<div>\n",
       "<style scoped>\n",
       "    .dataframe tbody tr th:only-of-type {\n",
       "        vertical-align: middle;\n",
       "    }\n",
       "\n",
       "    .dataframe tbody tr th {\n",
       "        vertical-align: top;\n",
       "    }\n",
       "\n",
       "    .dataframe thead th {\n",
       "        text-align: right;\n",
       "    }\n",
       "</style>\n",
       "<table border=\"1\" class=\"dataframe\">\n",
       "  <thead>\n",
       "    <tr style=\"text-align: right;\">\n",
       "      <th></th>\n",
       "      <th>Country</th>\n",
       "      <th>Language</th>\n",
       "      <th>en</th>\n",
       "      <th>ko</th>\n",
       "      <th>ru</th>\n",
       "    </tr>\n",
       "  </thead>\n",
       "  <tbody>\n",
       "    <tr>\n",
       "      <th>0</th>\n",
       "      <td>Jamaica</td>\n",
       "      <td>[en]</td>\n",
       "      <td>0.0</td>\n",
       "      <td>0.0</td>\n",
       "      <td>0.0</td>\n",
       "    </tr>\n",
       "    <tr>\n",
       "      <th>1</th>\n",
       "      <td>Philippines</td>\n",
       "      <td>[en]</td>\n",
       "      <td>0.0</td>\n",
       "      <td>0.0</td>\n",
       "      <td>0.0</td>\n",
       "    </tr>\n",
       "    <tr>\n",
       "      <th>2</th>\n",
       "      <td>Russia</td>\n",
       "      <td>[en, ru]</td>\n",
       "      <td>0.0</td>\n",
       "      <td>0.0</td>\n",
       "      <td>0.0</td>\n",
       "    </tr>\n",
       "    <tr>\n",
       "      <th>3</th>\n",
       "      <td>USA</td>\n",
       "      <td>[ko]</td>\n",
       "      <td>0.0</td>\n",
       "      <td>0.0</td>\n",
       "      <td>0.0</td>\n",
       "    </tr>\n",
       "  </tbody>\n",
       "</table>\n",
       "</div>"
      ],
      "text/plain": [
       "       Country  Language   en   ko   ru\n",
       "0      Jamaica      [en]  0.0  0.0  0.0\n",
       "1  Philippines      [en]  0.0  0.0  0.0\n",
       "2       Russia  [en, ru]  0.0  0.0  0.0\n",
       "3          USA      [ko]  0.0  0.0  0.0"
      ]
     },
     "execution_count": 37,
     "metadata": {},
     "output_type": "execute_result"
    }
   ],
   "source": [
    "df6"
   ]
  },
  {
   "cell_type": "code",
   "execution_count": 38,
   "metadata": {},
   "outputs": [
    {
     "data": {
      "text/html": [
       "<div>\n",
       "<style scoped>\n",
       "    .dataframe tbody tr th:only-of-type {\n",
       "        vertical-align: middle;\n",
       "    }\n",
       "\n",
       "    .dataframe tbody tr th {\n",
       "        vertical-align: top;\n",
       "    }\n",
       "\n",
       "    .dataframe thead th {\n",
       "        text-align: right;\n",
       "    }\n",
       "</style>\n",
       "<table border=\"1\" class=\"dataframe\">\n",
       "  <thead>\n",
       "    <tr style=\"text-align: right;\">\n",
       "      <th></th>\n",
       "      <th>Country</th>\n",
       "      <th>Language</th>\n",
       "      <th>en</th>\n",
       "      <th>ko</th>\n",
       "      <th>ru</th>\n",
       "    </tr>\n",
       "  </thead>\n",
       "  <tbody>\n",
       "    <tr>\n",
       "      <th>0</th>\n",
       "      <td>Jamaica</td>\n",
       "      <td>[en]</td>\n",
       "      <td>1.0</td>\n",
       "      <td>0.0</td>\n",
       "      <td>0.0</td>\n",
       "    </tr>\n",
       "    <tr>\n",
       "      <th>1</th>\n",
       "      <td>Philippines</td>\n",
       "      <td>[en]</td>\n",
       "      <td>1.0</td>\n",
       "      <td>0.0</td>\n",
       "      <td>0.0</td>\n",
       "    </tr>\n",
       "    <tr>\n",
       "      <th>2</th>\n",
       "      <td>Russia</td>\n",
       "      <td>[en, ru]</td>\n",
       "      <td>1.0</td>\n",
       "      <td>0.0</td>\n",
       "      <td>1.0</td>\n",
       "    </tr>\n",
       "    <tr>\n",
       "      <th>3</th>\n",
       "      <td>USA</td>\n",
       "      <td>[ko]</td>\n",
       "      <td>0.0</td>\n",
       "      <td>1.0</td>\n",
       "      <td>0.0</td>\n",
       "    </tr>\n",
       "  </tbody>\n",
       "</table>\n",
       "</div>"
      ],
      "text/plain": [
       "       Country  Language   en   ko   ru\n",
       "0      Jamaica      [en]  1.0  0.0  0.0\n",
       "1  Philippines      [en]  1.0  0.0  0.0\n",
       "2       Russia  [en, ru]  1.0  0.0  1.0\n",
       "3          USA      [ko]  0.0  1.0  0.0"
      ]
     },
     "execution_count": 38,
     "metadata": {},
     "output_type": "execute_result"
    }
   ],
   "source": [
    "for idx, row in df6.iterrows():\n",
    "    if row['Language']:\n",
    "        for i in row['Language']:\n",
    "            df6.loc[idx, i] = 1\n",
    "df6"
   ]
  },
  {
   "cell_type": "code",
   "execution_count": 39,
   "metadata": {},
   "outputs": [
    {
     "data": {
      "text/html": [
       "<div>\n",
       "<style scoped>\n",
       "    .dataframe tbody tr th:only-of-type {\n",
       "        vertical-align: middle;\n",
       "    }\n",
       "\n",
       "    .dataframe tbody tr th {\n",
       "        vertical-align: top;\n",
       "    }\n",
       "\n",
       "    .dataframe thead th {\n",
       "        text-align: right;\n",
       "    }\n",
       "</style>\n",
       "<table border=\"1\" class=\"dataframe\">\n",
       "  <thead>\n",
       "    <tr style=\"text-align: right;\">\n",
       "      <th></th>\n",
       "      <th>en</th>\n",
       "      <th>ko</th>\n",
       "      <th>ru</th>\n",
       "    </tr>\n",
       "    <tr>\n",
       "      <th>Country</th>\n",
       "      <th></th>\n",
       "      <th></th>\n",
       "      <th></th>\n",
       "    </tr>\n",
       "  </thead>\n",
       "  <tbody>\n",
       "    <tr>\n",
       "      <th>Jamaica</th>\n",
       "      <td>1.0</td>\n",
       "      <td>0.0</td>\n",
       "      <td>0.0</td>\n",
       "    </tr>\n",
       "    <tr>\n",
       "      <th>Philippines</th>\n",
       "      <td>1.0</td>\n",
       "      <td>0.0</td>\n",
       "      <td>0.0</td>\n",
       "    </tr>\n",
       "    <tr>\n",
       "      <th>Russia</th>\n",
       "      <td>1.0</td>\n",
       "      <td>0.0</td>\n",
       "      <td>1.0</td>\n",
       "    </tr>\n",
       "    <tr>\n",
       "      <th>USA</th>\n",
       "      <td>0.0</td>\n",
       "      <td>1.0</td>\n",
       "      <td>0.0</td>\n",
       "    </tr>\n",
       "  </tbody>\n",
       "</table>\n",
       "</div>"
      ],
      "text/plain": [
       "              en   ko   ru\n",
       "Country                   \n",
       "Jamaica      1.0  0.0  0.0\n",
       "Philippines  1.0  0.0  0.0\n",
       "Russia       1.0  0.0  1.0\n",
       "USA          0.0  1.0  0.0"
      ]
     },
     "execution_count": 39,
     "metadata": {},
     "output_type": "execute_result"
    }
   ],
   "source": [
    "df6.drop(['Language'], axis=1, inplace=True)\n",
    "df6.set_index('Country', inplace=True)\n",
    "df6"
   ]
  },
  {
   "cell_type": "markdown",
   "metadata": {},
   "source": [
    "https://indianaiproduction.com/seaborn-heatmap/\n",
    "\n",
    "https://stackoverflow.com/questions/34706845/change-xticklabels-fontsize-of-seaborn-heatmap"
   ]
  },
  {
   "cell_type": "code",
   "execution_count": 40,
   "metadata": {},
   "outputs": [
    {
     "data": {
      "text/plain": [
       "<matplotlib.axes._subplots.AxesSubplot at 0x1fa07401580>"
      ]
     },
     "execution_count": 40,
     "metadata": {},
     "output_type": "execute_result"
    },
    {
     "data": {
      "image/png": "[encoded data removed]",
      "text/plain": [
       "<Figure size 720x720 with 2 Axes>"
      ]
     },
     "metadata": {},
     "output_type": "display_data"
    }
   ],
   "source": [
    "sns.set(font_scale=1.6)\n",
    "plt.figure(figsize=(10,10))\n",
    "cbar_kws = {\"orientation\":\"vertical\", \n",
    "            \"shrink\":1.,\n",
    "            'extend':'min', \n",
    "            'extendfrac':0.05, \n",
    "            \"ticks\":np.arange(0,2), \n",
    "            \"drawedges\":True,\n",
    "           }\n",
    "sns.heatmap(df6, cmap='coolwarm', center=0.5, linewidths=2, square= True, annot=True, cbar_kws=cbar_kws)"
   ]
  },
  {
   "cell_type": "code",
   "execution_count": 41,
   "metadata": {},
   "outputs": [
    {
     "data": {
      "text/html": [
       "<div>\n",
       "<style scoped>\n",
       "    .dataframe tbody tr th:only-of-type {\n",
       "        vertical-align: middle;\n",
       "    }\n",
       "\n",
       "    .dataframe tbody tr th {\n",
       "        vertical-align: top;\n",
       "    }\n",
       "\n",
       "    .dataframe thead th {\n",
       "        text-align: right;\n",
       "    }\n",
       "</style>\n",
       "<table border=\"1\" class=\"dataframe\">\n",
       "  <thead>\n",
       "    <tr style=\"text-align: right;\">\n",
       "      <th></th>\n",
       "      <th>date</th>\n",
       "      <th>hour</th>\n",
       "      <th>language</th>\n",
       "      <th>retweets</th>\n",
       "      <th>min</th>\n",
       "      <th>place</th>\n",
       "      <th>country</th>\n",
       "      <th>replies</th>\n",
       "      <th>likes</th>\n",
       "      <th>quotes</th>\n",
       "      <th>sec</th>\n",
       "      <th>time</th>\n",
       "      <th>tweet</th>\n",
       "    </tr>\n",
       "    <tr>\n",
       "      <th>index</th>\n",
       "      <th></th>\n",
       "      <th></th>\n",
       "      <th></th>\n",
       "      <th></th>\n",
       "      <th></th>\n",
       "      <th></th>\n",
       "      <th></th>\n",
       "      <th></th>\n",
       "      <th></th>\n",
       "      <th></th>\n",
       "      <th></th>\n",
       "      <th></th>\n",
       "      <th></th>\n",
       "    </tr>\n",
       "  </thead>\n",
       "  <tbody>\n",
       "    <tr>\n",
       "      <th>1</th>\n",
       "      <td>2021-02-16</td>\n",
       "      <td>6</td>\n",
       "      <td>ko</td>\n",
       "      <td>0</td>\n",
       "      <td>40</td>\n",
       "      <td>[Santa Clara, CA]</td>\n",
       "      <td>USA</td>\n",
       "      <td>0</td>\n",
       "      <td>0</td>\n",
       "      <td>0</td>\n",
       "      <td>43</td>\n",
       "      <td>2021-02-16T06:40:43.000-06:00</td>\n",
       "      <td>나의그림😙❣️#BTS @BTSfanart #ARMY https://t.co/d6vu...</td>\n",
       "    </tr>\n",
       "    <tr>\n",
       "      <th>2</th>\n",
       "      <td>2021-02-16</td>\n",
       "      <td>7</td>\n",
       "      <td>en</td>\n",
       "      <td>0</td>\n",
       "      <td>3</td>\n",
       "      <td>[Quezon City, National Capital Region]</td>\n",
       "      <td>Philippines</td>\n",
       "      <td>0</td>\n",
       "      <td>0</td>\n",
       "      <td>0</td>\n",
       "      <td>10</td>\n",
       "      <td>2021-02-16T07:03:10.000-06:00</td>\n",
       "      <td>NowON\\n#OT7 #BTS https://t.co/YzsSBnIoj1</td>\n",
       "    </tr>\n",
       "    <tr>\n",
       "      <th>3</th>\n",
       "      <td>2021-02-16</td>\n",
       "      <td>7</td>\n",
       "      <td>en</td>\n",
       "      <td>0</td>\n",
       "      <td>14</td>\n",
       "      <td>[Jamaica]</td>\n",
       "      <td>Jamaica</td>\n",
       "      <td>0</td>\n",
       "      <td>0</td>\n",
       "      <td>0</td>\n",
       "      <td>58</td>\n",
       "      <td>2021-02-16T07:14:58.000-06:00</td>\n",
       "      <td>All now so we gone to collect the leftovers on...</td>\n",
       "    </tr>\n",
       "    <tr>\n",
       "      <th>4</th>\n",
       "      <td>2021-02-16</td>\n",
       "      <td>7</td>\n",
       "      <td>ru</td>\n",
       "      <td>1</td>\n",
       "      <td>28</td>\n",
       "      <td>[Province of Novosibirsk, Russia]</td>\n",
       "      <td>Russia</td>\n",
       "      <td>0</td>\n",
       "      <td>0</td>\n",
       "      <td>0</td>\n",
       "      <td>13</td>\n",
       "      <td>2021-02-16T07:28:13.000-06:00</td>\n",
       "      <td>Боже... Спасите меня кто-нибудь... Пожалуйста....</td>\n",
       "    </tr>\n",
       "    <tr>\n",
       "      <th>5</th>\n",
       "      <td>2021-02-16</td>\n",
       "      <td>7</td>\n",
       "      <td>en</td>\n",
       "      <td>0</td>\n",
       "      <td>35</td>\n",
       "      <td>[Penza, Russia]</td>\n",
       "      <td>Russia</td>\n",
       "      <td>0</td>\n",
       "      <td>0</td>\n",
       "      <td>0</td>\n",
       "      <td>6</td>\n",
       "      <td>2021-02-16T07:35:06.000-06:00</td>\n",
       "      <td>You create a great mood! The best and most ama...</td>\n",
       "    </tr>\n",
       "  </tbody>\n",
       "</table>\n",
       "</div>"
      ],
      "text/plain": [
       "             date  hour language  retweets  min  \\\n",
       "index                                             \n",
       "1      2021-02-16     6       ko         0   40   \n",
       "2      2021-02-16     7       en         0    3   \n",
       "3      2021-02-16     7       en         0   14   \n",
       "4      2021-02-16     7       ru         1   28   \n",
       "5      2021-02-16     7       en         0   35   \n",
       "\n",
       "                                        place      country  replies  likes  \\\n",
       "index                                                                        \n",
       "1                           [Santa Clara, CA]          USA        0      0   \n",
       "2      [Quezon City, National Capital Region]  Philippines        0      0   \n",
       "3                                   [Jamaica]      Jamaica        0      0   \n",
       "4           [Province of Novosibirsk, Russia]       Russia        0      0   \n",
       "5                             [Penza, Russia]       Russia        0      0   \n",
       "\n",
       "       quotes  sec                           time  \\\n",
       "index                                               \n",
       "1           0   43  2021-02-16T06:40:43.000-06:00   \n",
       "2           0   10  2021-02-16T07:03:10.000-06:00   \n",
       "3           0   58  2021-02-16T07:14:58.000-06:00   \n",
       "4           0   13  2021-02-16T07:28:13.000-06:00   \n",
       "5           0    6  2021-02-16T07:35:06.000-06:00   \n",
       "\n",
       "                                                   tweet  \n",
       "index                                                     \n",
       "1      나의그림😙❣️#BTS @BTSfanart #ARMY https://t.co/d6vu...  \n",
       "2               NowON\\n#OT7 #BTS https://t.co/YzsSBnIoj1  \n",
       "3      All now so we gone to collect the leftovers on...  \n",
       "4      Боже... Спасите меня кто-нибудь... Пожалуйста....  \n",
       "5      You create a great mood! The best and most ama...  "
      ]
     },
     "execution_count": 41,
     "metadata": {},
     "output_type": "execute_result"
    }
   ],
   "source": [
    "df3 = pd.read_csv(\"./data2/ana2_BTS_geoOnly_210216_morning_CDT.csv\",index_col='index')\n",
    "df3.head()"
   ]
  },
  {
   "cell_type": "code",
   "execution_count": 42,
   "metadata": {},
   "outputs": [
    {
     "data": {
      "text/html": [
       "<div>\n",
       "<style scoped>\n",
       "    .dataframe tbody tr th:only-of-type {\n",
       "        vertical-align: middle;\n",
       "    }\n",
       "\n",
       "    .dataframe tbody tr th {\n",
       "        vertical-align: top;\n",
       "    }\n",
       "\n",
       "    .dataframe thead th {\n",
       "        text-align: right;\n",
       "    }\n",
       "</style>\n",
       "<table border=\"1\" class=\"dataframe\">\n",
       "  <thead>\n",
       "    <tr style=\"text-align: right;\">\n",
       "      <th></th>\n",
       "      <th>language</th>\n",
       "      <th>country</th>\n",
       "    </tr>\n",
       "    <tr>\n",
       "      <th>index</th>\n",
       "      <th></th>\n",
       "      <th></th>\n",
       "    </tr>\n",
       "  </thead>\n",
       "  <tbody>\n",
       "    <tr>\n",
       "      <th>1</th>\n",
       "      <td>ko</td>\n",
       "      <td>USA</td>\n",
       "    </tr>\n",
       "    <tr>\n",
       "      <th>2</th>\n",
       "      <td>en</td>\n",
       "      <td>Philippines</td>\n",
       "    </tr>\n",
       "    <tr>\n",
       "      <th>3</th>\n",
       "      <td>en</td>\n",
       "      <td>Jamaica</td>\n",
       "    </tr>\n",
       "    <tr>\n",
       "      <th>4</th>\n",
       "      <td>ru</td>\n",
       "      <td>Russia</td>\n",
       "    </tr>\n",
       "    <tr>\n",
       "      <th>5</th>\n",
       "      <td>en</td>\n",
       "      <td>Russia</td>\n",
       "    </tr>\n",
       "  </tbody>\n",
       "</table>\n",
       "</div>"
      ],
      "text/plain": [
       "      language      country\n",
       "index                      \n",
       "1           ko          USA\n",
       "2           en  Philippines\n",
       "3           en      Jamaica\n",
       "4           ru       Russia\n",
       "5           en       Russia"
      ]
     },
     "execution_count": 42,
     "metadata": {},
     "output_type": "execute_result"
    }
   ],
   "source": [
    "df3p = df3.drop(['date','hour','retweets','min','place','replies','likes','quotes','sec','time','tweet'],axis=1)\n",
    "df3p.dropna(axis=0, how='any', inplace=True)\n",
    "df3p"
   ]
  },
  {
   "cell_type": "code",
   "execution_count": 43,
   "metadata": {
    "scrolled": false
   },
   "outputs": [
    {
     "name": "stdout",
     "output_type": "stream",
     "text": [
      "{'en', 'ko', 'ru'}\n"
     ]
    }
   ],
   "source": [
    "langs_list = []\n",
    "for i in df3p['language']:\n",
    "    langs_list.append(i)\n",
    "print(set(langs_list))"
   ]
  },
  {
   "cell_type": "code",
   "execution_count": 44,
   "metadata": {},
   "outputs": [
    {
     "data": {
      "text/plain": [
       "Index(['language', 'country', 'en', 'ko', 'ru'], dtype='object')"
      ]
     },
     "execution_count": 44,
     "metadata": {},
     "output_type": "execute_result"
    }
   ],
   "source": [
    "df4 = df3p.copy()\n",
    "for i in set(langs_list):\n",
    "    df4[i] = np.zeros(shape=df4.shape[0])\n",
    "df4.columns"
   ]
  },
  {
   "cell_type": "code",
   "execution_count": 45,
   "metadata": {},
   "outputs": [
    {
     "data": {
      "text/html": [
       "<div>\n",
       "<style scoped>\n",
       "    .dataframe tbody tr th:only-of-type {\n",
       "        vertical-align: middle;\n",
       "    }\n",
       "\n",
       "    .dataframe tbody tr th {\n",
       "        vertical-align: top;\n",
       "    }\n",
       "\n",
       "    .dataframe thead th {\n",
       "        text-align: right;\n",
       "    }\n",
       "</style>\n",
       "<table border=\"1\" class=\"dataframe\">\n",
       "  <thead>\n",
       "    <tr style=\"text-align: right;\">\n",
       "      <th></th>\n",
       "      <th>language</th>\n",
       "      <th>country</th>\n",
       "      <th>en</th>\n",
       "      <th>ko</th>\n",
       "      <th>ru</th>\n",
       "    </tr>\n",
       "    <tr>\n",
       "      <th>index</th>\n",
       "      <th></th>\n",
       "      <th></th>\n",
       "      <th></th>\n",
       "      <th></th>\n",
       "      <th></th>\n",
       "    </tr>\n",
       "  </thead>\n",
       "  <tbody>\n",
       "    <tr>\n",
       "      <th>1</th>\n",
       "      <td>ko</td>\n",
       "      <td>USA</td>\n",
       "      <td>0.0</td>\n",
       "      <td>1.0</td>\n",
       "      <td>0.0</td>\n",
       "    </tr>\n",
       "    <tr>\n",
       "      <th>2</th>\n",
       "      <td>en</td>\n",
       "      <td>Philippines</td>\n",
       "      <td>1.0</td>\n",
       "      <td>0.0</td>\n",
       "      <td>0.0</td>\n",
       "    </tr>\n",
       "    <tr>\n",
       "      <th>3</th>\n",
       "      <td>en</td>\n",
       "      <td>Jamaica</td>\n",
       "      <td>1.0</td>\n",
       "      <td>0.0</td>\n",
       "      <td>0.0</td>\n",
       "    </tr>\n",
       "    <tr>\n",
       "      <th>4</th>\n",
       "      <td>ru</td>\n",
       "      <td>Russia</td>\n",
       "      <td>0.0</td>\n",
       "      <td>0.0</td>\n",
       "      <td>1.0</td>\n",
       "    </tr>\n",
       "    <tr>\n",
       "      <th>5</th>\n",
       "      <td>en</td>\n",
       "      <td>Russia</td>\n",
       "      <td>1.0</td>\n",
       "      <td>0.0</td>\n",
       "      <td>0.0</td>\n",
       "    </tr>\n",
       "  </tbody>\n",
       "</table>\n",
       "</div>"
      ],
      "text/plain": [
       "      language      country   en   ko   ru\n",
       "index                                     \n",
       "1           ko          USA  0.0  1.0  0.0\n",
       "2           en  Philippines  1.0  0.0  0.0\n",
       "3           en      Jamaica  1.0  0.0  0.0\n",
       "4           ru       Russia  0.0  0.0  1.0\n",
       "5           en       Russia  1.0  0.0  0.0"
      ]
     },
     "execution_count": 45,
     "metadata": {},
     "output_type": "execute_result"
    }
   ],
   "source": [
    "for idx, row in df4.iterrows():\n",
    "    if row['language']:\n",
    "        df4.loc[idx, row['language']] = 1\n",
    "df4"
   ]
  },
  {
   "cell_type": "code",
   "execution_count": 46,
   "metadata": {},
   "outputs": [
    {
     "data": {
      "text/html": [
       "<div>\n",
       "<style scoped>\n",
       "    .dataframe tbody tr th:only-of-type {\n",
       "        vertical-align: middle;\n",
       "    }\n",
       "\n",
       "    .dataframe tbody tr th {\n",
       "        vertical-align: top;\n",
       "    }\n",
       "\n",
       "    .dataframe thead th {\n",
       "        text-align: right;\n",
       "    }\n",
       "</style>\n",
       "<table border=\"1\" class=\"dataframe\">\n",
       "  <thead>\n",
       "    <tr style=\"text-align: right;\">\n",
       "      <th></th>\n",
       "      <th>country</th>\n",
       "      <th>en</th>\n",
       "      <th>ko</th>\n",
       "      <th>ru</th>\n",
       "    </tr>\n",
       "    <tr>\n",
       "      <th>index</th>\n",
       "      <th></th>\n",
       "      <th></th>\n",
       "      <th></th>\n",
       "      <th></th>\n",
       "    </tr>\n",
       "  </thead>\n",
       "  <tbody>\n",
       "    <tr>\n",
       "      <th>1</th>\n",
       "      <td>USA</td>\n",
       "      <td>0.0</td>\n",
       "      <td>1.0</td>\n",
       "      <td>0.0</td>\n",
       "    </tr>\n",
       "    <tr>\n",
       "      <th>2</th>\n",
       "      <td>Philippines</td>\n",
       "      <td>1.0</td>\n",
       "      <td>0.0</td>\n",
       "      <td>0.0</td>\n",
       "    </tr>\n",
       "    <tr>\n",
       "      <th>3</th>\n",
       "      <td>Jamaica</td>\n",
       "      <td>1.0</td>\n",
       "      <td>0.0</td>\n",
       "      <td>0.0</td>\n",
       "    </tr>\n",
       "    <tr>\n",
       "      <th>4</th>\n",
       "      <td>Russia</td>\n",
       "      <td>0.0</td>\n",
       "      <td>0.0</td>\n",
       "      <td>1.0</td>\n",
       "    </tr>\n",
       "    <tr>\n",
       "      <th>5</th>\n",
       "      <td>Russia</td>\n",
       "      <td>1.0</td>\n",
       "      <td>0.0</td>\n",
       "      <td>0.0</td>\n",
       "    </tr>\n",
       "  </tbody>\n",
       "</table>\n",
       "</div>"
      ],
      "text/plain": [
       "           country   en   ko   ru\n",
       "index                            \n",
       "1              USA  0.0  1.0  0.0\n",
       "2      Philippines  1.0  0.0  0.0\n",
       "3          Jamaica  1.0  0.0  0.0\n",
       "4           Russia  0.0  0.0  1.0\n",
       "5           Russia  1.0  0.0  0.0"
      ]
     },
     "execution_count": 46,
     "metadata": {},
     "output_type": "execute_result"
    }
   ],
   "source": [
    "df4.drop(['language'], axis=1, inplace=True)\n",
    "df4"
   ]
  },
  {
   "cell_type": "code",
   "execution_count": 47,
   "metadata": {},
   "outputs": [
    {
     "data": {
      "text/html": [
       "<div>\n",
       "<style scoped>\n",
       "    .dataframe tbody tr th:only-of-type {\n",
       "        vertical-align: middle;\n",
       "    }\n",
       "\n",
       "    .dataframe tbody tr th {\n",
       "        vertical-align: top;\n",
       "    }\n",
       "\n",
       "    .dataframe thead th {\n",
       "        text-align: right;\n",
       "    }\n",
       "</style>\n",
       "<table border=\"1\" class=\"dataframe\">\n",
       "  <thead>\n",
       "    <tr style=\"text-align: right;\">\n",
       "      <th></th>\n",
       "      <th>en</th>\n",
       "      <th>ko</th>\n",
       "      <th>ru</th>\n",
       "    </tr>\n",
       "    <tr>\n",
       "      <th>country</th>\n",
       "      <th></th>\n",
       "      <th></th>\n",
       "      <th></th>\n",
       "    </tr>\n",
       "  </thead>\n",
       "  <tbody>\n",
       "    <tr>\n",
       "      <th>USA</th>\n",
       "      <td>0.0</td>\n",
       "      <td>1.0</td>\n",
       "      <td>0.0</td>\n",
       "    </tr>\n",
       "    <tr>\n",
       "      <th>Philippines</th>\n",
       "      <td>1.0</td>\n",
       "      <td>0.0</td>\n",
       "      <td>0.0</td>\n",
       "    </tr>\n",
       "    <tr>\n",
       "      <th>Jamaica</th>\n",
       "      <td>1.0</td>\n",
       "      <td>0.0</td>\n",
       "      <td>0.0</td>\n",
       "    </tr>\n",
       "    <tr>\n",
       "      <th>Russia</th>\n",
       "      <td>0.0</td>\n",
       "      <td>0.0</td>\n",
       "      <td>1.0</td>\n",
       "    </tr>\n",
       "    <tr>\n",
       "      <th>Russia</th>\n",
       "      <td>1.0</td>\n",
       "      <td>0.0</td>\n",
       "      <td>0.0</td>\n",
       "    </tr>\n",
       "  </tbody>\n",
       "</table>\n",
       "</div>"
      ],
      "text/plain": [
       "              en   ko   ru\n",
       "country                   \n",
       "USA          0.0  1.0  0.0\n",
       "Philippines  1.0  0.0  0.0\n",
       "Jamaica      1.0  0.0  0.0\n",
       "Russia       0.0  0.0  1.0\n",
       "Russia       1.0  0.0  0.0"
      ]
     },
     "execution_count": 47,
     "metadata": {},
     "output_type": "execute_result"
    }
   ],
   "source": [
    "df4.set_index('country', inplace=True)\n",
    "df4"
   ]
  },
  {
   "cell_type": "code",
   "execution_count": 48,
   "metadata": {
    "scrolled": false
   },
   "outputs": [],
   "source": [
    "#dfgp = df.groupby(['country'])\n",
    "#for name, group in dfgp:\n",
    "#    print(name, ' ', group['language'])\n",
    "#    print('--------------------------------')"
   ]
  },
  {
   "cell_type": "code",
   "execution_count": 49,
   "metadata": {
    "scrolled": false
   },
   "outputs": [],
   "source": [
    "#loc_lan = defaultdict(list)\n",
    "#for name, group in dfgp:\n",
    "#    for i in group['language']:\n",
    "#        loc_lan[name].append(group['language'])\n",
    "#loc_lan"
   ]
  },
  {
   "cell_type": "code",
   "execution_count": null,
   "metadata": {},
   "outputs": [],
   "source": []
  }
 ],
 "metadata": {
  "kernelspec": {
   "display_name": "learn-env",
   "language": "python",
   "name": "learn-env"
  },
  "language_info": {
   "codemirror_mode": {
    "name": "ipython",
    "version": 3
   },
   "file_extension": ".py",
   "mimetype": "text/x-python",
   "name": "python",
   "nbconvert_exporter": "python",
   "pygments_lexer": "ipython3",
   "version": "3.8.3"
  }
 },
 "nbformat": 4,
 "nbformat_minor": 4
}
