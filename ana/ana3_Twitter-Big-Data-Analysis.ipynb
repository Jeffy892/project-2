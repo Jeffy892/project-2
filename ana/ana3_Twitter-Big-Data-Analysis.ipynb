{
 "cells": [
  {
   "cell_type": "code",
   "execution_count": null,
   "metadata": {},
   "outputs": [],
   "source": [
    "import pandas as pd\n",
    "import numpy as np\n",
    "from collections import defaultdict \n",
    "import seaborn as sns\n",
    "import matplotlib.pyplot as plt\n",
    "%matplotlib inline \n",
    "\n",
    "sns.set_style('darkgrid')\n",
    "sns.set_context('notebook')"
   ]
  },
  {
   "cell_type": "code",
   "execution_count": null,
   "metadata": {},
   "outputs": [],
   "source": [
    "df = pd.read_csv(\"./data2/ana2_BTS_geoOnly_210213_morning_CDT.csv\",index_col='index')\n",
    "df"
   ]
  },
  {
   "cell_type": "code",
   "execution_count": null,
   "metadata": {},
   "outputs": [],
   "source": [
    "df.info()"
   ]
  },
  {
   "cell_type": "code",
   "execution_count": null,
   "metadata": {},
   "outputs": [],
   "source": [
    "df.describe()"
   ]
  },
  {
   "cell_type": "code",
   "execution_count": null,
   "metadata": {},
   "outputs": [],
   "source": [
    "df['place'].isnull().value_counts(normalize=True)"
   ]
  },
  {
   "cell_type": "code",
   "execution_count": null,
   "metadata": {},
   "outputs": [],
   "source": [
    "df['country'].isnull().value_counts(normalize=True)"
   ]
  },
  {
   "cell_type": "code",
   "execution_count": null,
   "metadata": {},
   "outputs": [],
   "source": [
    "df.dropna(axis=0, how='any', inplace=True)\n",
    "df.info()"
   ]
  },
  {
   "cell_type": "code",
   "execution_count": null,
   "metadata": {},
   "outputs": [],
   "source": [
    "df['place'] = df.place.apply(lambda x: x[1:-1].split(','))\n",
    "df.place.head()"
   ]
  },
  {
   "cell_type": "code",
   "execution_count": null,
   "metadata": {},
   "outputs": [],
   "source": [
    "city_list = []\n",
    "country_list = []\n",
    "for row in df.place: \n",
    "    city_list.append(row[:-1])\n",
    "    country_list.append(row[-1])\n",
    "print('cities:\\n',city_list,'\\n')\n",
    "print('countries:\\n',country_list)"
   ]
  },
  {
   "cell_type": "code",
   "execution_count": null,
   "metadata": {},
   "outputs": [],
   "source": [
    "df.insert(6, \"place_1\", city_list, True)\n",
    "df.head()"
   ]
  },
  {
   "cell_type": "code",
   "execution_count": null,
   "metadata": {},
   "outputs": [],
   "source": [
    "df.insert(7, \"place_2\", country_list, True)\n",
    "df.head()"
   ]
  },
  {
   "cell_type": "markdown",
   "metadata": {},
   "source": [
    "#### for debugging purpose: you can uncomment lines below"
   ]
  },
  {
   "cell_type": "code",
   "execution_count": null,
   "metadata": {},
   "outputs": [],
   "source": [
    "#df.drop(['place_1','place_2'],axis=1,inplace=True)\n",
    "#df.head()"
   ]
  },
  {
   "cell_type": "code",
   "execution_count": null,
   "metadata": {},
   "outputs": [],
   "source": [
    "df.drop(['place','time'],axis=1,inplace=True)\n",
    "df.head()"
   ]
  },
  {
   "cell_type": "code",
   "execution_count": null,
   "metadata": {},
   "outputs": [],
   "source": [
    "def top_count_bar_chart(xlist, ylist, col, title):\n",
    "    \n",
    "    sns.set_context('notebook')\n",
    "    fig, ax = plt.subplots(ncols=1, nrows=1, figsize=(12,6))\n",
    "    \n",
    "    ax.bar(xlist, ylist, color=col)\n",
    "    ax.set_title('{}'.format(title), size=24)\n",
    "    ax.set_xticklabels(xlist, fontsize=14, rotation=30, ha='right')\n",
    "    ax.set_xlabel('Countries', size=24)\n",
    "    ax.set_ylabel('Twitter User Counts', size=24)\n",
    "    ax.set(yscale='log')"
   ]
  },
  {
   "cell_type": "code",
   "execution_count": null,
   "metadata": {},
   "outputs": [],
   "source": [
    "top_count_bar_chart(list(df[\"country\"].value_counts().keys()[:15]), list(df[\"country\"].value_counts().values[:15]), 'red', \n",
    "                \"21/02/13 morning Twitter Filtered Streams\")"
   ]
  },
  {
   "cell_type": "code",
   "execution_count": null,
   "metadata": {},
   "outputs": [],
   "source": [
    "dfg = df.groupby(['country'])['language'].count().sort_values(ascending=True).reset_index()\n",
    "dfg"
   ]
  },
  {
   "cell_type": "code",
   "execution_count": null,
   "metadata": {},
   "outputs": [],
   "source": [
    "fig, ax = plt.subplots(ncols=1, nrows=1, figsize=(10,8))\n",
    "ax.barh(list(dfg.country), list(dfg.language), color='blue')\n",
    "ax.set_title('21/02/13 morning Twitter Filtered Streams', size=24)\n",
    "ax.set_xticklabels(ax.get_xticks(), size = 14)\n",
    "ax.set_xlabel('Twitter User Counts', size=24)\n",
    "ax.set_ylabel('Countries', size=24)\n",
    "ax.set_yticklabels(dfg.country, fontsize=14, rotation=30, ha='right')\n",
    "plt.show()"
   ]
  },
  {
   "cell_type": "code",
   "execution_count": null,
   "metadata": {},
   "outputs": [],
   "source": [
    "df.groupby(['country'])['language'].value_counts()"
   ]
  },
  {
   "cell_type": "code",
   "execution_count": null,
   "metadata": {},
   "outputs": [],
   "source": [
    "df.groupby(['country'])['language'].value_counts().keys()"
   ]
  },
  {
   "cell_type": "code",
   "execution_count": null,
   "metadata": {},
   "outputs": [],
   "source": [
    "print(df.groupby(['country'])['language'].value_counts().keys()[0])\n",
    "print(df.groupby(['country'])['language'].value_counts().keys()[0][0])\n",
    "print(df.groupby(['country'])['language'].value_counts().keys()[0][1])"
   ]
  },
  {
   "cell_type": "code",
   "execution_count": null,
   "metadata": {},
   "outputs": [],
   "source": [
    "count_lan = defaultdict(list)\n",
    "for i in df.groupby(['country'])['language'].value_counts().keys():\n",
    "    count_lan[i[0]].append(i[1])\n",
    "count_lan"
   ]
  },
  {
   "cell_type": "markdown",
   "metadata": {},
   "source": [
    "#### for debugging purpose: you can uncomment/comment lines below"
   ]
  },
  {
   "cell_type": "code",
   "execution_count": null,
   "metadata": {},
   "outputs": [],
   "source": [
    "#print(count_lan['Argentina'])\n",
    "#print(count_lan['Belgium'])\n",
    "#print(count_lan['Brazil'])"
   ]
  },
  {
   "cell_type": "code",
   "execution_count": null,
   "metadata": {},
   "outputs": [],
   "source": [
    "print(count_lan.keys())\n",
    "print(count_lan.values())"
   ]
  },
  {
   "cell_type": "code",
   "execution_count": null,
   "metadata": {
    "scrolled": false
   },
   "outputs": [],
   "source": [
    "count_lantype = dict()\n",
    "for i in count_lan:\n",
    "    count_lantype[i] = np.size(count_lan[i])\n",
    "count_lantype"
   ]
  },
  {
   "cell_type": "markdown",
   "metadata": {},
   "source": [
    "#### for debugging purpose: you can uncomment/comment lines below"
   ]
  },
  {
   "cell_type": "code",
   "execution_count": null,
   "metadata": {},
   "outputs": [],
   "source": [
    "#count_lantype.pop(0)\n",
    "#count_lantype.pop(1)\n",
    "#count_lantype"
   ]
  },
  {
   "cell_type": "code",
   "execution_count": null,
   "metadata": {},
   "outputs": [],
   "source": [
    "#sorted_count_lantype = sorted(count_lantype, key=count_lantype.get, reverse=True)\n",
    "sorted_count_lantype = {k: v for k, v in sorted(count_lantype.items(), key=lambda x:x[1], reverse=False)}\n",
    "sorted_count_lantype"
   ]
  },
  {
   "cell_type": "code",
   "execution_count": null,
   "metadata": {},
   "outputs": [],
   "source": [
    "print(sorted_count_lantype.keys())\n",
    "print(sorted_count_lantype.values())"
   ]
  },
  {
   "cell_type": "code",
   "execution_count": null,
   "metadata": {},
   "outputs": [],
   "source": [
    "fig, ax = plt.subplots(ncols=1, nrows=1, figsize=(10,8))\n",
    "ax.barh(list(sorted_count_lantype.keys()), list(sorted_count_lantype.values()), color='blue')\n",
    "ax.set_title('21/02/13 morning Twitter Filtered Streams', size=24)\n",
    "ax.set_xticklabels(ax.get_xticks(), size = 14)\n",
    "ax.set_xlabel('Language Type Counts', size=24)\n",
    "ax.set_ylabel('Countries', size=24)\n",
    "ax.set_yticklabels(list(sorted_count_lantype.keys()), fontsize=14, rotation=30, ha='right')\n",
    "plt.show()"
   ]
  },
  {
   "cell_type": "code",
   "execution_count": null,
   "metadata": {},
   "outputs": [],
   "source": [
    "count_lan"
   ]
  },
  {
   "cell_type": "code",
   "execution_count": null,
   "metadata": {},
   "outputs": [],
   "source": [
    "dict_geolang = dict()\n",
    "dict_geoList = []\n",
    "dict_lanList = []\n",
    "for i in count_lan:\n",
    "    for j in count_lan[i]:\n",
    "        dict_geolang.setdefault(i, []).append(j)\n",
    "        dict_geoList.append(i)\n",
    "        dict_lanList.append(j)\n",
    "print(dict_geolang)\n",
    "print(dict_geoList)\n",
    "print(dict_lanList)"
   ]
  },
  {
   "cell_type": "code",
   "execution_count": null,
   "metadata": {},
   "outputs": [],
   "source": [
    "data = {'Country': dict_geoList,'Language': dict_lanList}"
   ]
  },
  {
   "cell_type": "code",
   "execution_count": null,
   "metadata": {},
   "outputs": [],
   "source": [
    "data2 = {'Country': list(dict_geolang.keys()),'Language': list(dict_geolang.values())}"
   ]
  },
  {
   "cell_type": "code",
   "execution_count": null,
   "metadata": {},
   "outputs": [],
   "source": [
    "df2 = pd.DataFrame(data, columns = ['Country','Language']).set_index('Country')\n",
    "df2"
   ]
  },
  {
   "cell_type": "code",
   "execution_count": null,
   "metadata": {},
   "outputs": [],
   "source": [
    "df5 = pd.DataFrame(data2, columns = ['Country','Language'])\n",
    "df5"
   ]
  },
  {
   "cell_type": "code",
   "execution_count": null,
   "metadata": {},
   "outputs": [],
   "source": [
    "langtypes_list = []\n",
    "for i in df5['Language']:\n",
    "    for j in i:\n",
    "        langtypes_list.append(j)\n",
    "print(set(langtypes_list))"
   ]
  },
  {
   "cell_type": "code",
   "execution_count": null,
   "metadata": {},
   "outputs": [],
   "source": [
    "df6 = df5.copy()\n",
    "for i in set(langtypes_list):\n",
    "    df6[i] = np.zeros(shape=df6.shape[0])\n",
    "df6.columns"
   ]
  },
  {
   "cell_type": "code",
   "execution_count": null,
   "metadata": {},
   "outputs": [],
   "source": [
    "df6"
   ]
  },
  {
   "cell_type": "code",
   "execution_count": null,
   "metadata": {},
   "outputs": [],
   "source": [
    "for idx, row in df6.iterrows():\n",
    "    if row['Language']:\n",
    "        for i in row['Language']:\n",
    "            df6.loc[idx, i] = 1\n",
    "df6"
   ]
  },
  {
   "cell_type": "code",
   "execution_count": null,
   "metadata": {},
   "outputs": [],
   "source": [
    "df6.drop(['Language'], axis=1, inplace=True)\n",
    "df6.set_index('Country', inplace=True)\n",
    "df6"
   ]
  },
  {
   "cell_type": "markdown",
   "metadata": {},
   "source": [
    "https://indianaiproduction.com/seaborn-heatmap/\n",
    "\n",
    "https://stackoverflow.com/questions/34706845/change-xticklabels-fontsize-of-seaborn-heatmap"
   ]
  },
  {
   "cell_type": "code",
   "execution_count": null,
   "metadata": {},
   "outputs": [],
   "source": [
    "sns.set(font_scale=1.6)\n",
    "plt.figure(figsize=(10,10))\n",
    "cbar_kws = {\"orientation\":\"vertical\", \n",
    "            \"shrink\":1.,\n",
    "            'extend':'min', \n",
    "            'extendfrac':0.05, \n",
    "            \"ticks\":np.arange(0,2), \n",
    "            \"drawedges\":True,\n",
    "           }\n",
    "sns.heatmap(df6, cmap='coolwarm', center=0.5, linewidths=2, square= True, annot=True, cbar_kws=cbar_kws)"
   ]
  },
  {
   "cell_type": "code",
   "execution_count": null,
   "metadata": {},
   "outputs": [],
   "source": [
    "df3 = pd.read_csv(\"./data2/ana2_BTS_geoOnly_210213_morning_CDT.csv\",index_col='index')\n",
    "df3.head()"
   ]
  },
  {
   "cell_type": "code",
   "execution_count": null,
   "metadata": {},
   "outputs": [],
   "source": [
    "df3p = df3.drop(['date','hour','retweets','min','place','replies','likes','quotes','sec','time','tweet'],axis=1)\n",
    "df3p.dropna(axis=0, how='any', inplace=True)\n",
    "df3p"
   ]
  },
  {
   "cell_type": "code",
   "execution_count": null,
   "metadata": {
    "scrolled": false
   },
   "outputs": [],
   "source": [
    "langs_list = []\n",
    "for i in df3p['language']:\n",
    "    langs_list.append(i)\n",
    "print(set(langs_list))"
   ]
  },
  {
   "cell_type": "code",
   "execution_count": null,
   "metadata": {},
   "outputs": [],
   "source": [
    "df4 = df3p.copy()\n",
    "for i in set(langs_list):\n",
    "    df4[i] = np.zeros(shape=df4.shape[0])\n",
    "df4.columns"
   ]
  },
  {
   "cell_type": "code",
   "execution_count": null,
   "metadata": {},
   "outputs": [],
   "source": [
    "for idx, row in df4.iterrows():\n",
    "    if row['language']:\n",
    "        df4.loc[idx, row['language']] = 1\n",
    "df4"
   ]
  },
  {
   "cell_type": "code",
   "execution_count": null,
   "metadata": {},
   "outputs": [],
   "source": [
    "df4.drop(['language'], axis=1, inplace=True)\n",
    "df4"
   ]
  },
  {
   "cell_type": "code",
   "execution_count": null,
   "metadata": {},
   "outputs": [],
   "source": [
    "df4.set_index('country', inplace=True)\n",
    "df4"
   ]
  },
  {
   "cell_type": "code",
   "execution_count": null,
   "metadata": {
    "scrolled": false
   },
   "outputs": [],
   "source": [
    "#dfgp = df.groupby(['country'])\n",
    "#for name, group in dfgp:\n",
    "#    print(name, ' ', group['language'])\n",
    "#    print('--------------------------------')"
   ]
  },
  {
   "cell_type": "code",
   "execution_count": null,
   "metadata": {
    "scrolled": false
   },
   "outputs": [],
   "source": [
    "#loc_lan = defaultdict(list)\n",
    "#for name, group in dfgp:\n",
    "#    for i in group['language']:\n",
    "#        loc_lan[name].append(group['language'])\n",
    "#loc_lan"
   ]
  },
  {
   "cell_type": "code",
   "execution_count": null,
   "metadata": {},
   "outputs": [],
   "source": []
  }
 ],
 "metadata": {
  "kernelspec": {
   "display_name": "learn-env",
   "language": "python",
   "name": "learn-env"
  },
  "language_info": {
   "codemirror_mode": {
    "name": "ipython",
    "version": 3
   },
   "file_extension": ".py",
   "mimetype": "text/x-python",
   "name": "python",
   "nbconvert_exporter": "python",
   "pygments_lexer": "ipython3",
   "version": "3.8.3"
  }
 },
 "nbformat": 4,
 "nbformat_minor": 4
}
