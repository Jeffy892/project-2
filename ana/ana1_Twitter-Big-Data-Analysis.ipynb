{
 "cells": [
  {
   "cell_type": "code",
   "execution_count": 1,
   "metadata": {},
   "outputs": [],
   "source": [
    "import pandas as pd\n",
    "import numpy as np\n",
    "import seaborn as sns\n",
    "import matplotlib.pyplot as plt\n",
    "%matplotlib inline \n",
    "\n",
    "sns.set_style('darkgrid')\n",
    "sns.set_context('notebook')"
   ]
  },
  {
   "cell_type": "code",
   "execution_count": 2,
   "metadata": {},
   "outputs": [
    {
     "data": {
      "text/html": [
       "<div>\n",
       "<style scoped>\n",
       "    .dataframe tbody tr th:only-of-type {\n",
       "        vertical-align: middle;\n",
       "    }\n",
       "\n",
       "    .dataframe tbody tr th {\n",
       "        vertical-align: top;\n",
       "    }\n",
       "\n",
       "    .dataframe thead th {\n",
       "        text-align: right;\n",
       "    }\n",
       "</style>\n",
       "<table border=\"1\" class=\"dataframe\">\n",
       "  <thead>\n",
       "    <tr style=\"text-align: right;\">\n",
       "      <th></th>\n",
       "      <th>full_name</th>\n",
       "      <th>city</th>\n",
       "      <th>country</th>\n",
       "      <th>counts</th>\n",
       "      <th>avg_Retweet</th>\n",
       "      <th>avg_Replies</th>\n",
       "      <th>avg_Like</th>\n",
       "      <th>avg_Quotes</th>\n",
       "      <th>index</th>\n",
       "    </tr>\n",
       "  </thead>\n",
       "  <tbody>\n",
       "    <tr>\n",
       "      <th>0</th>\n",
       "      <td>Changwon-si, Republic of Korea</td>\n",
       "      <td>Changwon-si</td>\n",
       "      <td>Republic of Korea</td>\n",
       "      <td>8</td>\n",
       "      <td>0</td>\n",
       "      <td>0</td>\n",
       "      <td>0.375</td>\n",
       "      <td>0</td>\n",
       "      <td>1</td>\n",
       "    </tr>\n",
       "    <tr>\n",
       "      <th>1</th>\n",
       "      <td>Manhattan, NY</td>\n",
       "      <td>Manhattan, NY</td>\n",
       "      <td>USA</td>\n",
       "      <td>8</td>\n",
       "      <td>0</td>\n",
       "      <td>0</td>\n",
       "      <td>0.000</td>\n",
       "      <td>0</td>\n",
       "      <td>2</td>\n",
       "    </tr>\n",
       "    <tr>\n",
       "      <th>2</th>\n",
       "      <td>Kazakhstan</td>\n",
       "      <td>Kazakhstan</td>\n",
       "      <td>Dubai</td>\n",
       "      <td>4</td>\n",
       "      <td>0</td>\n",
       "      <td>0</td>\n",
       "      <td>0.000</td>\n",
       "      <td>0</td>\n",
       "      <td>3</td>\n",
       "    </tr>\n",
       "    <tr>\n",
       "      <th>3</th>\n",
       "      <td>Potsdam, Germany</td>\n",
       "      <td>Potsdam</td>\n",
       "      <td>Germany</td>\n",
       "      <td>3</td>\n",
       "      <td>0</td>\n",
       "      <td>0</td>\n",
       "      <td>0.000</td>\n",
       "      <td>0</td>\n",
       "      <td>4</td>\n",
       "    </tr>\n",
       "    <tr>\n",
       "      <th>4</th>\n",
       "      <td>Duque de Caxias, Brasil</td>\n",
       "      <td>Duque de Caxias</td>\n",
       "      <td>Brasil</td>\n",
       "      <td>3</td>\n",
       "      <td>0</td>\n",
       "      <td>0</td>\n",
       "      <td>0.000</td>\n",
       "      <td>0</td>\n",
       "      <td>5</td>\n",
       "    </tr>\n",
       "  </tbody>\n",
       "</table>\n",
       "</div>"
      ],
      "text/plain": [
       "                        full_name             city            country  counts  \\\n",
       "0  Changwon-si, Republic of Korea      Changwon-si  Republic of Korea       8   \n",
       "1                   Manhattan, NY    Manhattan, NY                USA       8   \n",
       "2                      Kazakhstan       Kazakhstan              Dubai       4   \n",
       "3                Potsdam, Germany          Potsdam            Germany       3   \n",
       "4         Duque de Caxias, Brasil  Duque de Caxias             Brasil       3   \n",
       "\n",
       "   avg_Retweet  avg_Replies  avg_Like  avg_Quotes  index  \n",
       "0            0            0     0.375           0      1  \n",
       "1            0            0     0.000           0      2  \n",
       "2            0            0     0.000           0      3  \n",
       "3            0            0     0.000           0      4  \n",
       "4            0            0     0.000           0      5  "
      ]
     },
     "execution_count": 2,
     "metadata": {},
     "output_type": "execute_result"
    }
   ],
   "source": [
    "d = pd.read_csv(\"./data1/ana_BTS_geoOnly_210212_allday_CDT2.csv\")\n",
    "d.head()"
   ]
  },
  {
   "cell_type": "code",
   "execution_count": 3,
   "metadata": {},
   "outputs": [
    {
     "data": {
      "text/plain": [
       "USA                        15\n",
       "Philippines                 8\n",
       "Indonesia                   7\n",
       "Brasil                      6\n",
       "Italy                       5\n",
       "India                       4\n",
       "Republic of Korea           4\n",
       "Thailand                    3\n",
       "Brazil                      3\n",
       "Russia                      3\n",
       "Bangladesh                  2\n",
       "Mexico                      2\n",
       "Japan                       2\n",
       "Argentina                   2\n",
       "France                      1\n",
       "Morocco                     1\n",
       "Uzbekistan                  1\n",
       "Greece                      1\n",
       "Canada                      1\n",
       "Spain                       1\n",
       "Ukraine                     1\n",
       "UK                          1\n",
       "Germany                     1\n",
       "Turkey                      1\n",
       "Colombia                    1\n",
       "Dubai                       1\n",
       "Ecuador                     1\n",
       "Kingdom of Saudi Arabia     1\n",
       "Norway                      1\n",
       "Belgium                     1\n",
       "Malaysia                    1\n",
       "Name: country, dtype: int64"
      ]
     },
     "execution_count": 3,
     "metadata": {},
     "output_type": "execute_result"
    }
   ],
   "source": [
    "d[\"country\"].value_counts()"
   ]
  },
  {
   "cell_type": "code",
   "execution_count": 4,
   "metadata": {},
   "outputs": [
    {
     "data": {
      "text/plain": [
       "Index(['USA', 'Philippines', 'Indonesia', 'Brasil', 'Italy', 'India',\n",
       "       'Republic of Korea', 'Thailand', 'Brazil', 'Russia', 'Bangladesh',\n",
       "       'Mexico', 'Japan', 'Argentina', 'France', 'Morocco', 'Uzbekistan',\n",
       "       'Greece', 'Canada', 'Spain', 'Ukraine', 'UK', 'Germany', 'Turkey',\n",
       "       'Colombia', 'Dubai', 'Ecuador', 'Kingdom of Saudi Arabia', 'Norway',\n",
       "       'Belgium ', 'Malaysia'],\n",
       "      dtype='object')"
      ]
     },
     "execution_count": 4,
     "metadata": {},
     "output_type": "execute_result"
    }
   ],
   "source": [
    "d[\"country\"].value_counts().keys()"
   ]
  },
  {
   "cell_type": "code",
   "execution_count": 5,
   "metadata": {},
   "outputs": [
    {
     "data": {
      "text/plain": [
       "31"
      ]
     },
     "execution_count": 5,
     "metadata": {},
     "output_type": "execute_result"
    }
   ],
   "source": [
    "d[\"country\"].value_counts().count()"
   ]
  },
  {
   "cell_type": "code",
   "execution_count": 6,
   "metadata": {},
   "outputs": [
    {
     "data": {
      "text/plain": [
       "array([15,  8,  7,  6,  5,  4,  4,  3,  3,  3,  2,  2,  2,  2,  1,  1,  1,\n",
       "        1,  1,  1,  1,  1,  1,  1,  1,  1,  1,  1,  1,  1,  1],\n",
       "      dtype=int64)"
      ]
     },
     "execution_count": 6,
     "metadata": {},
     "output_type": "execute_result"
    }
   ],
   "source": [
    "d[\"country\"].value_counts().values"
   ]
  },
  {
   "cell_type": "code",
   "execution_count": 7,
   "metadata": {},
   "outputs": [],
   "source": [
    "def top_5_bar_chart(xlist, ylist, col, title):\n",
    "    \n",
    "    sns.set_context('notebook')\n",
    "    fig, ax = plt.subplots(ncols=1, nrows=1, figsize=(12,6))\n",
    "    \n",
    "    ax.bar(xlist, ylist, color=col)\n",
    "    ax.set_title('{}'.format(title), size=24)\n",
    "    ax.set_ylabel('Counts', size=24)\n",
    "    ax.set_xticklabels(xlist, fontsize=14, rotation=30, ha='right')\n",
    "    ax.set(yscale='log')"
   ]
  },
  {
   "cell_type": "code",
   "execution_count": 8,
   "metadata": {},
   "outputs": [
    {
     "data": {
      "image/png": "[encoded data removed]",
      "text/plain": [
       "<Figure size 864x432 with 1 Axes>"
      ]
     },
     "metadata": {},
     "output_type": "display_data"
    }
   ],
   "source": [
    "top_5_bar_chart(list(d[\"country\"].value_counts().keys()[:14]), list(d[\"country\"].value_counts().values[:14]), 'red', \n",
    "                \"21/02/12 all day Twitter Filtered Streams\")"
   ]
  },
  {
   "cell_type": "code",
   "execution_count": null,
   "metadata": {},
   "outputs": [],
   "source": []
  }
 ],
 "metadata": {
  "kernelspec": {
   "display_name": "learn-env",
   "language": "python",
   "name": "learn-env"
  },
  "language_info": {
   "codemirror_mode": {
    "name": "ipython",
    "version": 3
   },
   "file_extension": ".py",
   "mimetype": "text/x-python",
   "name": "python",
   "nbconvert_exporter": "python",
   "pygments_lexer": "ipython3",
   "version": "3.8.3"
  }
 },
 "nbformat": 4,
 "nbformat_minor": 4
}
